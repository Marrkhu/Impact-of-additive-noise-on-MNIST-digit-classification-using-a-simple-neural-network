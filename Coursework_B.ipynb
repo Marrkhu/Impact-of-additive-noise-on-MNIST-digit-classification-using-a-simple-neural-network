{
  "nbformat": 4,
  "nbformat_minor": 0,
  "metadata": {
    "colab": {
      "provenance": []
    },
    "kernelspec": {
      "name": "python3",
      "display_name": "Python 3"
    },
    "language_info": {
      "name": "python"
    }
  },
  "cells": [
    {
      "cell_type": "markdown",
      "source": [
        "# **Course Work B**\n",
        "\n",
        "In the first code cell all the necessary libraries are imported like numpy and matplotlib. Tensorflow and Keras will be the deep learning frameworks that will be used for training and evaluating the neural networks in this notebook.\n"
      ],
      "metadata": {
        "id": "oHisSyQ_5I3Z"
      }
    },
    {
      "cell_type": "code",
      "execution_count": null,
      "metadata": {
        "colab": {
          "base_uri": "https://localhost:8080/"
        },
        "id": "Uwpfa1i9jmOR",
        "outputId": "44590002-d236-44c0-d81c-4cae6c511c70"
      },
      "outputs": [
        {
          "output_type": "stream",
          "name": "stdout",
          "text": [
            "2.17.1\n"
          ]
        }
      ],
      "source": [
        "import matplotlib.pyplot as plt\n",
        "import numpy as np\n",
        "import math\n",
        "\n",
        "import tensorflow as tf\n",
        "from tensorflow import keras\n",
        "\n",
        "import matplotlib.style\n",
        "import matplotlib as mpl\n",
        "\n",
        "print(tf.__version__)"
      ]
    },
    {
      "cell_type": "markdown",
      "source": [
        "MNIST dataset is downloaded. The shapes and lengths are printed just to confirm the dimensions of the data set and a sample image is displayed just to get a sense of what kind of data the neural network will be trained on."
      ],
      "metadata": {
        "id": "ELgMfFFc-kTW"
      }
    },
    {
      "cell_type": "code",
      "source": [
        "mnist = keras.datasets.mnist\n",
        "(train_images, train_labels), (test_images, test_labels) = mnist.load_data()"
      ],
      "metadata": {
        "id": "GQHVrSVQmEwr",
        "colab": {
          "base_uri": "https://localhost:8080/"
        },
        "outputId": "d68b17cf-223f-43fd-f0d1-1774f70e2d18"
      },
      "execution_count": null,
      "outputs": [
        {
          "output_type": "stream",
          "name": "stdout",
          "text": [
            "Downloading data from https://storage.googleapis.com/tensorflow/tf-keras-datasets/mnist.npz\n",
            "\u001b[1m11490434/11490434\u001b[0m \u001b[32m━━━━━━━━━━━━━━━━━━━━\u001b[0m\u001b[37m\u001b[0m \u001b[1m0s\u001b[0m 0us/step\n"
          ]
        }
      ]
    },
    {
      "cell_type": "code",
      "source": [
        "print(\"Shape of training images:\",train_images.shape)\n",
        "print(\"Length of training set labels:\",len(train_labels))\n",
        "print(\"First label:\",train_labels[0])\n",
        "print(\"Shape of testing images:\",test_images.shape)\n",
        "print(\"Length of testing set labels:\",len(test_labels))"
      ],
      "metadata": {
        "colab": {
          "base_uri": "https://localhost:8080/"
        },
        "id": "DvF7TPXqmLSi",
        "outputId": "4572e381-2b98-4df4-8d3c-6add3e30b387"
      },
      "execution_count": null,
      "outputs": [
        {
          "output_type": "stream",
          "name": "stdout",
          "text": [
            "Shape of training images: (60000, 28, 28)\n",
            "Length of training set labels: 60000\n",
            "First label: 5\n",
            "Shape of testing images: (10000, 28, 28)\n",
            "Length of testing set labels: 10000\n"
          ]
        }
      ]
    },
    {
      "cell_type": "code",
      "source": [
        "plt.imshow(train_images[0])\n",
        "plt.colorbar()"
      ],
      "metadata": {
        "id": "GqDBm-ZImWxy",
        "outputId": "a3db5c3c-4f2e-424c-a98f-b19072a01c8b",
        "colab": {
          "base_uri": "https://localhost:8080/",
          "height": 447
        }
      },
      "execution_count": null,
      "outputs": [
        {
          "output_type": "execute_result",
          "data": {
            "text/plain": [
              "<matplotlib.colorbar.Colorbar at 0x7f6f4ccab190>"
            ]
          },
          "metadata": {},
          "execution_count": 4
        },
        {
          "output_type": "display_data",
          "data": {
            "text/plain": [
              "<Figure size 640x480 with 2 Axes>"
            ],
            "image/png": "[encoded data removed]"
          },
          "metadata": {}
        }
      ]
    },
    {
      "cell_type": "code",
      "source": [
        "def addNoiseToMNIST(yNoise, data):\n",
        "  \"\"\"\n",
        "    Adds random noise to the input MNIST images within the range [0, yNoise].\n",
        "\n",
        "    This function creates random noise drawn from a uniform distribution [0, yNoise]\n",
        "    and adds it to the original MNIST data. It then clips any values above 255\n",
        "    to maintain valid pixel range (0 to 255).\n",
        "\n",
        "    Args:\n",
        "        yNoise (float): The upper bound for noise.\n",
        "        data (numpy.ndarray): The MNIST image data to which noise will be added.\n",
        "                              Can be a single image of shape (28, 28) or a batch\n",
        "                              of images with shape (N, 28, 28).\n",
        "\n",
        "    Returns:\n",
        "        numpy.ndarray: A NumPy array of the same shape as the data, containing\n",
        "                       the noisy images. All pixel values are clipped to\n",
        "                       remain in the range [0, 255].\n",
        "    \"\"\"\n",
        "  noise = np.random.uniform(low=0, high=yNoise, size=data.shape)\n",
        "  noisy_data = data + noise\n",
        "  noisy_data = np.clip(noisy_data, 0, 255)\n",
        "  return noisy_data"
      ],
      "metadata": {
        "id": "QNGFcCQwmZ_K"
      },
      "execution_count": null,
      "outputs": []
    },
    {
      "cell_type": "markdown",
      "source": [
        "Here the MNIST data set is loaded. Train_images and Train_labels are the training set (60,000 images). Test_images and Test_labels are the test set (10,000 images). First image and label are sampled. Then and array of noise magnutudes is defined and a loop is used to loop over the chosen noise levels with the previously defined addNoiseMNIST() function. Each iteration produces a noisy version of the original with the predefined noise levels."
      ],
      "metadata": {
        "id": "rqFaA8tb_SQX"
      }
    },
    {
      "cell_type": "code",
      "source": [
        "(train_images, train_labels), (test_images, test_labels) = mnist.load_data()\n",
        "test_image = train_images[0]\n",
        "test_label = train_labels[0]\n",
        "print(\"Label:\",test_label)\n",
        "\n",
        "yNoise_values = [0, 20, 50, 100]\n",
        "noisy_image = []\n",
        "\n",
        "for yNoise in yNoise_values:\n",
        "  noisy_image = addNoiseToMNIST(yNoise, test_image)"
      ],
      "metadata": {
        "colab": {
          "base_uri": "https://localhost:8080/"
        },
        "id": "XL2Hv4QsTdQ7",
        "outputId": "6074a8e4-c48a-4759-8ca1-b680771ba61c"
      },
      "execution_count": null,
      "outputs": [
        {
          "output_type": "stream",
          "name": "stdout",
          "text": [
            "Label: 5\n"
          ]
        }
      ]
    },
    {
      "cell_type": "code",
      "source": [
        "def plot_noisy_image(test_image, yNoise_values):\n",
        "  \"\"\"\n",
        "    Plots the original MNIST image and its noisy versions side by side.\n",
        "\n",
        "    This function takes a single MNIST image and a list of noise levels.\n",
        "    It displays the original image along with several images each perturbed\n",
        "    by a specified amount of noise.\n",
        "\n",
        "    Args:\n",
        "        test_image (numpy.ndarray): A single MNIST image of shape (28, 28).\n",
        "        yNoise_values (list or array): A list/array of noise levels to add to\n",
        "                                       the input image.\n",
        "\n",
        "    Returns:\n",
        "        tuple: A tuple where:\n",
        "               - fig is the Matplotlib figure object.\n",
        "               - axes is an array of the subplot axes.\n",
        "    \"\"\"\n",
        "  number_images = len(yNoise_values) + 1\n",
        "  fig, axes = plt.subplots(1,number_images, figsize=(15,6))\n",
        "  axes[0].imshow(test_image, cmap='Blues')\n",
        "  axes[0].set_title(\"Original Image\")\n",
        "\n",
        "  for i, yNoise in enumerate(yNoise_values):\n",
        "    noisy_image = addNoiseToMNIST(yNoise, test_image)\n",
        "    axes[i+1].imshow(noisy_image, cmap='Blues')\n",
        "    axes[i+1].set_title(f\"Noisy Image (yNoise={yNoise})\")\n",
        "\n",
        "  plt.tight_layout()\n",
        "  plt.show()\n",
        "  return fig, axes\n"
      ],
      "metadata": {
        "id": "n6omP3FXV0IK"
      },
      "execution_count": null,
      "outputs": []
    },
    {
      "cell_type": "markdown",
      "source": [
        "Plotting the results. As it can be seen as the noise level increases the image becomes less clear. This plot helps visualise what kind of data the later neural networks will be trained on."
      ],
      "metadata": {
        "id": "5N9_o8owAnYf"
      }
    },
    {
      "cell_type": "code",
      "source": [
        "plot_noisy_image(test_image, yNoise_values)"
      ],
      "metadata": {
        "colab": {
          "base_uri": "https://localhost:8080/",
          "height": 441
        },
        "id": "Z-Bl5orZbTmG",
        "outputId": "e94b1532-68c4-49a1-f18b-ebca35e7c5ac"
      },
      "execution_count": null,
      "outputs": [
        {
          "output_type": "display_data",
          "data": {
            "text/plain": [
              "<Figure size 1500x600 with 5 Axes>"
            ],
            "image/png": "[encoded data removed]"
          },
          "metadata": {}
        },
        {
          "output_type": "execute_result",
          "data": {
            "text/plain": [
              "(<Figure size 1500x600 with 5 Axes>,\n",
              " array([<Axes: title={'center': 'Original Image'}>,\n",
              "        <Axes: title={'center': 'Noisy Image (yNoise=0)'}>,\n",
              "        <Axes: title={'center': 'Noisy Image (yNoise=20)'}>,\n",
              "        <Axes: title={'center': 'Noisy Image (yNoise=50)'}>,\n",
              "        <Axes: title={'center': 'Noisy Image (yNoise=100)'}>], dtype=object))"
            ]
          },
          "metadata": {},
          "execution_count": 8
        }
      ]
    },
    {
      "cell_type": "markdown",
      "source": [
        "A simple neural network is initilised with a hidden layer of 128 neurons and a ReLU activation function. The loss function is SparseCategoricalCrossentropy and the optimiser is Adam."
      ],
      "metadata": {
        "id": "g8sNwyCPAxQf"
      }
    },
    {
      "cell_type": "code",
      "source": [
        "model = keras.Sequential([\n",
        "    keras.layers.Input(shape=(28,28)),\n",
        "    keras.layers.Flatten(),\n",
        "    keras.layers.Dense(128,activation='relu'),\n",
        "    keras.layers.Dense(10)\n",
        "])"
      ],
      "metadata": {
        "id": "FB-CfvvJjxFy"
      },
      "execution_count": null,
      "outputs": []
    },
    {
      "cell_type": "code",
      "source": [
        "model.compile(loss=tf.keras.losses.SparseCategoricalCrossentropy(from_logits=True), optimizer='adam', metrics=['accuracy'])"
      ],
      "metadata": {
        "id": "aEDZWZx-kBjZ"
      },
      "execution_count": null,
      "outputs": []
    },
    {
      "cell_type": "markdown",
      "source": [
        "The model is trained on the original MNIST data set with no noise. 30 epochs, a batch size of 100 and 10% of the training set as a validatoin set is used a the hyperparameters. The validaition set is the subset of the training data that will be held out to asses the performance of the model and tune the hyperparameters. If the model performs well on the trianing set and poorly on the validation set it means its overfitting, i.e memorising the training set instead of learning."
      ],
      "metadata": {
        "id": "jbnl7o8bB5KZ"
      }
    },
    {
      "cell_type": "code",
      "source": [
        "history=model.fit(train_images, train_labels,batch_size=100, epochs=30, validation_split = 0.1)"
      ],
      "metadata": {
        "colab": {
          "base_uri": "https://localhost:8080/"
        },
        "id": "2A4hzKoUkJCp",
        "outputId": "e750e4e5-cc3f-45c9-a3aa-6e1c7e312b38"
      },
      "execution_count": null,
      "outputs": [
        {
          "output_type": "stream",
          "name": "stdout",
          "text": [
            "Epoch 1/30\n",
            "\u001b[1m540/540\u001b[0m \u001b[32m━━━━━━━━━━━━━━━━━━━━\u001b[0m\u001b[37m\u001b[0m \u001b[1m4s\u001b[0m 5ms/step - accuracy: 0.7796 - loss: 10.5041 - val_accuracy: 0.8845 - val_loss: 0.5562\n",
            "Epoch 2/30\n",
            "\u001b[1m540/540\u001b[0m \u001b[32m━━━━━━━━━━━━━━━━━━━━\u001b[0m\u001b[37m\u001b[0m \u001b[1m3s\u001b[0m 5ms/step - accuracy: 0.8927 - loss: 0.5082 - val_accuracy: 0.9212 - val_loss: 0.3399\n",
            "Epoch 3/30\n",
            "\u001b[1m540/540\u001b[0m \u001b[32m━━━━━━━━━━━━━━━━━━━━\u001b[0m\u001b[37m\u001b[0m \u001b[1m5s\u001b[0m 5ms/step - accuracy: 0.9249 - loss: 0.3063 - val_accuracy: 0.9372 - val_loss: 0.2828\n",
            "Epoch 4/30\n",
            "\u001b[1m540/540\u001b[0m \u001b[32m━━━━━━━━━━━━━━━━━━━━\u001b[0m\u001b[37m\u001b[0m \u001b[1m5s\u001b[0m 4ms/step - accuracy: 0.9368 - loss: 0.2351 - val_accuracy: 0.9445 - val_loss: 0.2524\n",
            "Epoch 5/30\n",
            "\u001b[1m540/540\u001b[0m \u001b[32m━━━━━━━━━━━━━━━━━━━━\u001b[0m\u001b[37m\u001b[0m \u001b[1m2s\u001b[0m 3ms/step - accuracy: 0.9492 - loss: 0.1816 - val_accuracy: 0.9540 - val_loss: 0.2105\n",
            "Epoch 6/30\n",
            "\u001b[1m540/540\u001b[0m \u001b[32m━━━━━━━━━━━━━━━━━━━━\u001b[0m\u001b[37m\u001b[0m \u001b[1m3s\u001b[0m 5ms/step - accuracy: 0.9564 - loss: 0.1528 - val_accuracy: 0.9545 - val_loss: 0.2194\n",
            "Epoch 7/30\n",
            "\u001b[1m540/540\u001b[0m \u001b[32m━━━━━━━━━━━━━━━━━━━━\u001b[0m\u001b[37m\u001b[0m \u001b[1m6s\u001b[0m 6ms/step - accuracy: 0.9582 - loss: 0.1532 - val_accuracy: 0.9525 - val_loss: 0.2049\n",
            "Epoch 8/30\n",
            "\u001b[1m540/540\u001b[0m \u001b[32m━━━━━━━━━━━━━━━━━━━━\u001b[0m\u001b[37m\u001b[0m \u001b[1m5s\u001b[0m 6ms/step - accuracy: 0.9620 - loss: 0.1342 - val_accuracy: 0.9597 - val_loss: 0.1915\n",
            "Epoch 9/30\n",
            "\u001b[1m540/540\u001b[0m \u001b[32m━━━━━━━━━━━━━━━━━━━━\u001b[0m\u001b[37m\u001b[0m \u001b[1m5s\u001b[0m 6ms/step - accuracy: 0.9596 - loss: 0.1483 - val_accuracy: 0.9592 - val_loss: 0.1649\n",
            "Epoch 10/30\n",
            "\u001b[1m540/540\u001b[0m \u001b[32m━━━━━━━━━━━━━━━━━━━━\u001b[0m\u001b[37m\u001b[0m \u001b[1m4s\u001b[0m 7ms/step - accuracy: 0.9639 - loss: 0.1298 - val_accuracy: 0.9598 - val_loss: 0.2089\n",
            "Epoch 11/30\n",
            "\u001b[1m540/540\u001b[0m \u001b[32m━━━━━━━━━━━━━━━━━━━━\u001b[0m\u001b[37m\u001b[0m \u001b[1m4s\u001b[0m 4ms/step - accuracy: 0.9669 - loss: 0.1237 - val_accuracy: 0.9608 - val_loss: 0.1930\n",
            "Epoch 12/30\n",
            "\u001b[1m540/540\u001b[0m \u001b[32m━━━━━━━━━━━━━━━━━━━━\u001b[0m\u001b[37m\u001b[0m \u001b[1m3s\u001b[0m 4ms/step - accuracy: 0.9657 - loss: 0.1232 - val_accuracy: 0.9620 - val_loss: 0.1938\n",
            "Epoch 13/30\n",
            "\u001b[1m540/540\u001b[0m \u001b[32m━━━━━━━━━━━━━━━━━━━━\u001b[0m\u001b[37m\u001b[0m \u001b[1m2s\u001b[0m 5ms/step - accuracy: 0.9691 - loss: 0.1102 - val_accuracy: 0.9545 - val_loss: 0.2440\n",
            "Epoch 14/30\n",
            "\u001b[1m540/540\u001b[0m \u001b[32m━━━━━━━━━━━━━━━━━━━━\u001b[0m\u001b[37m\u001b[0m \u001b[1m2s\u001b[0m 4ms/step - accuracy: 0.9698 - loss: 0.1083 - val_accuracy: 0.9627 - val_loss: 0.1932\n",
            "Epoch 15/30\n",
            "\u001b[1m540/540\u001b[0m \u001b[32m━━━━━━━━━━━━━━━━━━━━\u001b[0m\u001b[37m\u001b[0m \u001b[1m3s\u001b[0m 5ms/step - accuracy: 0.9694 - loss: 0.1144 - val_accuracy: 0.9605 - val_loss: 0.1843\n",
            "Epoch 16/30\n",
            "\u001b[1m540/540\u001b[0m \u001b[32m━━━━━━━━━━━━━━━━━━━━\u001b[0m\u001b[37m\u001b[0m \u001b[1m2s\u001b[0m 3ms/step - accuracy: 0.9728 - loss: 0.0983 - val_accuracy: 0.9635 - val_loss: 0.2010\n",
            "Epoch 17/30\n",
            "\u001b[1m540/540\u001b[0m \u001b[32m━━━━━━━━━━━━━━━━━━━━\u001b[0m\u001b[37m\u001b[0m \u001b[1m2s\u001b[0m 3ms/step - accuracy: 0.9740 - loss: 0.0945 - val_accuracy: 0.9620 - val_loss: 0.1937\n",
            "Epoch 18/30\n",
            "\u001b[1m540/540\u001b[0m \u001b[32m━━━━━━━━━━━━━━━━━━━━\u001b[0m\u001b[37m\u001b[0m \u001b[1m2s\u001b[0m 3ms/step - accuracy: 0.9755 - loss: 0.0901 - val_accuracy: 0.9588 - val_loss: 0.2034\n",
            "Epoch 19/30\n",
            "\u001b[1m540/540\u001b[0m \u001b[32m━━━━━━━━━━━━━━━━━━━━\u001b[0m\u001b[37m\u001b[0m \u001b[1m2s\u001b[0m 3ms/step - accuracy: 0.9755 - loss: 0.0911 - val_accuracy: 0.9653 - val_loss: 0.1856\n",
            "Epoch 20/30\n",
            "\u001b[1m540/540\u001b[0m \u001b[32m━━━━━━━━━━━━━━━━━━━━\u001b[0m\u001b[37m\u001b[0m \u001b[1m3s\u001b[0m 4ms/step - accuracy: 0.9754 - loss: 0.0896 - val_accuracy: 0.9625 - val_loss: 0.2256\n",
            "Epoch 21/30\n",
            "\u001b[1m540/540\u001b[0m \u001b[32m━━━━━━━━━━━━━━━━━━━━\u001b[0m\u001b[37m\u001b[0m \u001b[1m3s\u001b[0m 5ms/step - accuracy: 0.9747 - loss: 0.1041 - val_accuracy: 0.9643 - val_loss: 0.2013\n",
            "Epoch 22/30\n",
            "\u001b[1m540/540\u001b[0m \u001b[32m━━━━━━━━━━━━━━━━━━━━\u001b[0m\u001b[37m\u001b[0m \u001b[1m2s\u001b[0m 3ms/step - accuracy: 0.9778 - loss: 0.0809 - val_accuracy: 0.9642 - val_loss: 0.1991\n",
            "Epoch 23/30\n",
            "\u001b[1m540/540\u001b[0m \u001b[32m━━━━━━━━━━━━━━━━━━━━\u001b[0m\u001b[37m\u001b[0m \u001b[1m2s\u001b[0m 3ms/step - accuracy: 0.9777 - loss: 0.0855 - val_accuracy: 0.9663 - val_loss: 0.2024\n",
            "Epoch 24/30\n",
            "\u001b[1m540/540\u001b[0m \u001b[32m━━━━━━━━━━━━━━━━━━━━\u001b[0m\u001b[37m\u001b[0m \u001b[1m3s\u001b[0m 3ms/step - accuracy: 0.9802 - loss: 0.0721 - val_accuracy: 0.9643 - val_loss: 0.2177\n",
            "Epoch 25/30\n",
            "\u001b[1m540/540\u001b[0m \u001b[32m━━━━━━━━━━━━━━━━━━━━\u001b[0m\u001b[37m\u001b[0m \u001b[1m2s\u001b[0m 3ms/step - accuracy: 0.9793 - loss: 0.0843 - val_accuracy: 0.9607 - val_loss: 0.2479\n",
            "Epoch 26/30\n",
            "\u001b[1m540/540\u001b[0m \u001b[32m━━━━━━━━━━━━━━━━━━━━\u001b[0m\u001b[37m\u001b[0m \u001b[1m3s\u001b[0m 5ms/step - accuracy: 0.9798 - loss: 0.0708 - val_accuracy: 0.9680 - val_loss: 0.2238\n",
            "Epoch 27/30\n",
            "\u001b[1m540/540\u001b[0m \u001b[32m━━━━━━━━━━━━━━━━━━━━\u001b[0m\u001b[37m\u001b[0m \u001b[1m4s\u001b[0m 3ms/step - accuracy: 0.9804 - loss: 0.0753 - val_accuracy: 0.9647 - val_loss: 0.2219\n",
            "Epoch 28/30\n",
            "\u001b[1m540/540\u001b[0m \u001b[32m━━━━━━━━━━━━━━━━━━━━\u001b[0m\u001b[37m\u001b[0m \u001b[1m3s\u001b[0m 3ms/step - accuracy: 0.9806 - loss: 0.0746 - val_accuracy: 0.9635 - val_loss: 0.2815\n",
            "Epoch 29/30\n",
            "\u001b[1m540/540\u001b[0m \u001b[32m━━━━━━━━━━━━━━━━━━━━\u001b[0m\u001b[37m\u001b[0m \u001b[1m3s\u001b[0m 3ms/step - accuracy: 0.9816 - loss: 0.0745 - val_accuracy: 0.9588 - val_loss: 0.2641\n",
            "Epoch 30/30\n",
            "\u001b[1m540/540\u001b[0m \u001b[32m━━━━━━━━━━━━━━━━━━━━\u001b[0m\u001b[37m\u001b[0m \u001b[1m4s\u001b[0m 6ms/step - accuracy: 0.9836 - loss: 0.0660 - val_accuracy: 0.9658 - val_loss: 0.2484\n"
          ]
        }
      ]
    },
    {
      "cell_type": "markdown",
      "source": [
        "Original test set is used to evaluate the models performance. Here the baseline performance is depicted without any noise and an expected performance of 95% or above is reached as required."
      ],
      "metadata": {
        "id": "Ctydk3TSCrAC"
      }
    },
    {
      "cell_type": "code",
      "source": [
        "test_loss, test_acc = model.evaluate(test_images, test_labels, verbose=2)\n",
        "print('\\nTest accuracy:', test_acc)"
      ],
      "metadata": {
        "colab": {
          "base_uri": "https://localhost:8080/"
        },
        "id": "20LjY3sFk4BN",
        "outputId": "cf5d1196-95c6-4745-ba00-bd833e340031"
      },
      "execution_count": null,
      "outputs": [
        {
          "output_type": "stream",
          "name": "stdout",
          "text": [
            "313/313 - 1s - 3ms/step - accuracy: 0.9595 - loss: 0.3718\n",
            "\n",
            "Test accuracy: 0.9595000147819519\n"
          ]
        }
      ]
    },
    {
      "cell_type": "markdown",
      "source": [
        "A loop is used to loop over yNoise values between 0 and 300 in steps of 25. for each noise level entry, noise is added to the training images and evaluated with model.evaluate(). This is being tracked and stored in the empty array and a plot is used to depict the evolution of the accuracy with the growing noise. As expected the growing noise exponantioally decreases the performance of the model, with a drastic drop in the accuracy between the values of 10-100 and a plateu further on. This is an acceptable results as the model is trained on images without noise."
      ],
      "metadata": {
        "id": "XmCqZW4LC67h"
      }
    },
    {
      "cell_type": "code",
      "source": [
        "yNoise_values = np.arange(0, 301, 25)\n",
        "accuracy_values = []\n",
        "\n",
        "for yNoise in yNoise_values:\n",
        "  noisy_train_images = addNoiseToMNIST(yNoise, train_images)\n",
        "  _, accuracy = model.evaluate(noisy_train_images, train_labels, verbose=0)\n",
        "  accuracy_values.append(accuracy)\n",
        "\n",
        "plt.plot(yNoise_values, accuracy_values, marker='o')\n",
        "plt.xlabel('yNoise')\n",
        "plt.ylabel('Accuracy')\n",
        "plt.title('Accuracy vs. yNoise')\n",
        "plt.show()"
      ],
      "metadata": {
        "colab": {
          "base_uri": "https://localhost:8080/",
          "height": 472
        },
        "id": "XDez3IJXlhWc",
        "outputId": "df0d1cf7-cdd5-4c25-eed1-fd15f0e0103c"
      },
      "execution_count": null,
      "outputs": [
        {
          "output_type": "display_data",
          "data": {
            "text/plain": [
              "<Figure size 640x480 with 1 Axes>"
            ],
            "image/png": "[encoded data removed]"
          },
          "metadata": {}
        }
      ]
    },
    {
      "cell_type": "markdown",
      "source": [
        "A set noise_level = 5 is selected and added to the training set. A copy of the original model is created as to not overwrite the structure of the previous model. After, this copy is trained on the training set with the noise added and evaluated on the original clean set. This is useful because it can display that training a model on a noisy set can improve its performance on unclear and clear data sets."
      ],
      "metadata": {
        "id": "A95I1kZDEDza"
      }
    },
    {
      "cell_type": "code",
      "source": [
        "noise_level = 5\n",
        "noisy_test_images = addNoiseToMNIST(noise_level, train_images)"
      ],
      "metadata": {
        "id": "yq5NiXELsLZ1"
      },
      "execution_count": null,
      "outputs": []
    },
    {
      "cell_type": "code",
      "source": [
        "copy_model = keras.models.clone_model(model)\n",
        "copy_model.compile(loss=tf.keras.losses.SparseCategoricalCrossentropy(from_logits=True), optimizer='adam', metrics=['accuracy'])"
      ],
      "metadata": {
        "id": "fOJRPhqpt4r5"
      },
      "execution_count": null,
      "outputs": []
    },
    {
      "cell_type": "code",
      "source": [
        "history=copy_model.fit(noisy_test_images, train_labels,batch_size=100, epochs=30, validation_split = 0.1)"
      ],
      "metadata": {
        "colab": {
          "base_uri": "https://localhost:8080/"
        },
        "id": "gzhzcquSuJ0a",
        "outputId": "b766cec8-7518-47a3-ec6e-40cd517e6833"
      },
      "execution_count": null,
      "outputs": [
        {
          "output_type": "stream",
          "name": "stdout",
          "text": [
            "Epoch 1/30\n",
            "\u001b[1m540/540\u001b[0m \u001b[32m━━━━━━━━━━━━━━━━━━━━\u001b[0m\u001b[37m\u001b[0m \u001b[1m3s\u001b[0m 3ms/step - accuracy: 0.7848 - loss: 10.2965 - val_accuracy: 0.8665 - val_loss: 0.5739\n",
            "Epoch 2/30\n",
            "\u001b[1m540/540\u001b[0m \u001b[32m━━━━━━━━━━━━━━━━━━━━\u001b[0m\u001b[37m\u001b[0m \u001b[1m2s\u001b[0m 3ms/step - accuracy: 0.8807 - loss: 0.5466 - val_accuracy: 0.9155 - val_loss: 0.3599\n",
            "Epoch 3/30\n",
            "\u001b[1m540/540\u001b[0m \u001b[32m━━━━━━━━━━━━━━━━━━━━\u001b[0m\u001b[37m\u001b[0m \u001b[1m2s\u001b[0m 3ms/step - accuracy: 0.9214 - loss: 0.3185 - val_accuracy: 0.9342 - val_loss: 0.2812\n",
            "Epoch 4/30\n",
            "\u001b[1m540/540\u001b[0m \u001b[32m━━━━━━━━━━━━━━━━━━━━\u001b[0m\u001b[37m\u001b[0m \u001b[1m4s\u001b[0m 5ms/step - accuracy: 0.9351 - loss: 0.2436 - val_accuracy: 0.9420 - val_loss: 0.2563\n",
            "Epoch 5/30\n",
            "\u001b[1m540/540\u001b[0m \u001b[32m━━━━━━━━━━━━━━━━━━━━\u001b[0m\u001b[37m\u001b[0m \u001b[1m4s\u001b[0m 3ms/step - accuracy: 0.9460 - loss: 0.1953 - val_accuracy: 0.9483 - val_loss: 0.2515\n",
            "Epoch 6/30\n",
            "\u001b[1m540/540\u001b[0m \u001b[32m━━━━━━━━━━━━━━━━━━━━\u001b[0m\u001b[37m\u001b[0m \u001b[1m2s\u001b[0m 3ms/step - accuracy: 0.9511 - loss: 0.1784 - val_accuracy: 0.9527 - val_loss: 0.2209\n",
            "Epoch 7/30\n",
            "\u001b[1m540/540\u001b[0m \u001b[32m━━━━━━━━━━━━━━━━━━━━\u001b[0m\u001b[37m\u001b[0m \u001b[1m2s\u001b[0m 3ms/step - accuracy: 0.9563 - loss: 0.1546 - val_accuracy: 0.9543 - val_loss: 0.1981\n",
            "Epoch 8/30\n",
            "\u001b[1m540/540\u001b[0m \u001b[32m━━━━━━━━━━━━━━━━━━━━\u001b[0m\u001b[37m\u001b[0m \u001b[1m2s\u001b[0m 4ms/step - accuracy: 0.9573 - loss: 0.1516 - val_accuracy: 0.9560 - val_loss: 0.1989\n",
            "Epoch 9/30\n",
            "\u001b[1m540/540\u001b[0m \u001b[32m━━━━━━━━━━━━━━━━━━━━\u001b[0m\u001b[37m\u001b[0m \u001b[1m3s\u001b[0m 4ms/step - accuracy: 0.9581 - loss: 0.1455 - val_accuracy: 0.9530 - val_loss: 0.2048\n",
            "Epoch 10/30\n",
            "\u001b[1m540/540\u001b[0m \u001b[32m━━━━━━━━━━━━━━━━━━━━\u001b[0m\u001b[37m\u001b[0m \u001b[1m2s\u001b[0m 3ms/step - accuracy: 0.9608 - loss: 0.1410 - val_accuracy: 0.9552 - val_loss: 0.1979\n",
            "Epoch 11/30\n",
            "\u001b[1m540/540\u001b[0m \u001b[32m━━━━━━━━━━━━━━━━━━━━\u001b[0m\u001b[37m\u001b[0m \u001b[1m2s\u001b[0m 3ms/step - accuracy: 0.9646 - loss: 0.1239 - val_accuracy: 0.9593 - val_loss: 0.1876\n",
            "Epoch 12/30\n",
            "\u001b[1m540/540\u001b[0m \u001b[32m━━━━━━━━━━━━━━━━━━━━\u001b[0m\u001b[37m\u001b[0m \u001b[1m3s\u001b[0m 3ms/step - accuracy: 0.9624 - loss: 0.1276 - val_accuracy: 0.9597 - val_loss: 0.2007\n",
            "Epoch 13/30\n",
            "\u001b[1m540/540\u001b[0m \u001b[32m━━━━━━━━━━━━━━━━━━━━\u001b[0m\u001b[37m\u001b[0m \u001b[1m2s\u001b[0m 3ms/step - accuracy: 0.9648 - loss: 0.1237 - val_accuracy: 0.9552 - val_loss: 0.1998\n",
            "Epoch 14/30\n",
            "\u001b[1m540/540\u001b[0m \u001b[32m━━━━━━━━━━━━━━━━━━━━\u001b[0m\u001b[37m\u001b[0m \u001b[1m2s\u001b[0m 4ms/step - accuracy: 0.9685 - loss: 0.1070 - val_accuracy: 0.9618 - val_loss: 0.2095\n",
            "Epoch 15/30\n",
            "\u001b[1m540/540\u001b[0m \u001b[32m━━━━━━━━━━━━━━━━━━━━\u001b[0m\u001b[37m\u001b[0m \u001b[1m3s\u001b[0m 4ms/step - accuracy: 0.9682 - loss: 0.1067 - val_accuracy: 0.9638 - val_loss: 0.1695\n",
            "Epoch 16/30\n",
            "\u001b[1m540/540\u001b[0m \u001b[32m━━━━━━━━━━━━━━━━━━━━\u001b[0m\u001b[37m\u001b[0m \u001b[1m2s\u001b[0m 3ms/step - accuracy: 0.9669 - loss: 0.1187 - val_accuracy: 0.9640 - val_loss: 0.1751\n",
            "Epoch 17/30\n",
            "\u001b[1m540/540\u001b[0m \u001b[32m━━━━━━━━━━━━━━━━━━━━\u001b[0m\u001b[37m\u001b[0m \u001b[1m2s\u001b[0m 3ms/step - accuracy: 0.9714 - loss: 0.1017 - val_accuracy: 0.9557 - val_loss: 0.2004\n",
            "Epoch 18/30\n",
            "\u001b[1m540/540\u001b[0m \u001b[32m━━━━━━━━━━━━━━━━━━━━\u001b[0m\u001b[37m\u001b[0m \u001b[1m3s\u001b[0m 3ms/step - accuracy: 0.9691 - loss: 0.1102 - val_accuracy: 0.9633 - val_loss: 0.1756\n",
            "Epoch 19/30\n",
            "\u001b[1m540/540\u001b[0m \u001b[32m━━━━━━━━━━━━━━━━━━━━\u001b[0m\u001b[37m\u001b[0m \u001b[1m2s\u001b[0m 3ms/step - accuracy: 0.9743 - loss: 0.0930 - val_accuracy: 0.9637 - val_loss: 0.1819\n",
            "Epoch 20/30\n",
            "\u001b[1m540/540\u001b[0m \u001b[32m━━━━━━━━━━━━━━━━━━━━\u001b[0m\u001b[37m\u001b[0m \u001b[1m3s\u001b[0m 4ms/step - accuracy: 0.9741 - loss: 0.0904 - val_accuracy: 0.9587 - val_loss: 0.2386\n",
            "Epoch 21/30\n",
            "\u001b[1m540/540\u001b[0m \u001b[32m━━━━━━━━━━━━━━━━━━━━\u001b[0m\u001b[37m\u001b[0m \u001b[1m3s\u001b[0m 4ms/step - accuracy: 0.9739 - loss: 0.0970 - val_accuracy: 0.9643 - val_loss: 0.1959\n",
            "Epoch 22/30\n",
            "\u001b[1m540/540\u001b[0m \u001b[32m━━━━━━━━━━━━━━━━━━━━\u001b[0m\u001b[37m\u001b[0m \u001b[1m2s\u001b[0m 3ms/step - accuracy: 0.9754 - loss: 0.0865 - val_accuracy: 0.9660 - val_loss: 0.2015\n",
            "Epoch 23/30\n",
            "\u001b[1m540/540\u001b[0m \u001b[32m━━━━━━━━━━━━━━━━━━━━\u001b[0m\u001b[37m\u001b[0m \u001b[1m2s\u001b[0m 3ms/step - accuracy: 0.9761 - loss: 0.0797 - val_accuracy: 0.9652 - val_loss: 0.1962\n",
            "Epoch 24/30\n",
            "\u001b[1m540/540\u001b[0m \u001b[32m━━━━━━━━━━━━━━━━━━━━\u001b[0m\u001b[37m\u001b[0m \u001b[1m2s\u001b[0m 3ms/step - accuracy: 0.9765 - loss: 0.0834 - val_accuracy: 0.9627 - val_loss: 0.2221\n",
            "Epoch 25/30\n",
            "\u001b[1m540/540\u001b[0m \u001b[32m━━━━━━━━━━━━━━━━━━━━\u001b[0m\u001b[37m\u001b[0m \u001b[1m3s\u001b[0m 3ms/step - accuracy: 0.9776 - loss: 0.0781 - val_accuracy: 0.9627 - val_loss: 0.2174\n",
            "Epoch 26/30\n",
            "\u001b[1m540/540\u001b[0m \u001b[32m━━━━━━━━━━━━━━━━━━━━\u001b[0m\u001b[37m\u001b[0m \u001b[1m4s\u001b[0m 5ms/step - accuracy: 0.9792 - loss: 0.0765 - val_accuracy: 0.9622 - val_loss: 0.2518\n",
            "Epoch 27/30\n",
            "\u001b[1m540/540\u001b[0m \u001b[32m━━━━━━━━━━━━━━━━━━━━\u001b[0m\u001b[37m\u001b[0m \u001b[1m2s\u001b[0m 3ms/step - accuracy: 0.9793 - loss: 0.0791 - val_accuracy: 0.9667 - val_loss: 0.2291\n",
            "Epoch 28/30\n",
            "\u001b[1m540/540\u001b[0m \u001b[32m━━━━━━━━━━━━━━━━━━━━\u001b[0m\u001b[37m\u001b[0m \u001b[1m2s\u001b[0m 3ms/step - accuracy: 0.9816 - loss: 0.0707 - val_accuracy: 0.9632 - val_loss: 0.2429\n",
            "Epoch 29/30\n",
            "\u001b[1m540/540\u001b[0m \u001b[32m━━━━━━━━━━━━━━━━━━━━\u001b[0m\u001b[37m\u001b[0m \u001b[1m2s\u001b[0m 3ms/step - accuracy: 0.9781 - loss: 0.0804 - val_accuracy: 0.9668 - val_loss: 0.2540\n",
            "Epoch 30/30\n",
            "\u001b[1m540/540\u001b[0m \u001b[32m━━━━━━━━━━━━━━━━━━━━\u001b[0m\u001b[37m\u001b[0m \u001b[1m3s\u001b[0m 3ms/step - accuracy: 0.9795 - loss: 0.0763 - val_accuracy: 0.9630 - val_loss: 0.2700\n"
          ]
        }
      ]
    },
    {
      "cell_type": "code",
      "source": [
        "test_loss, test_acc = copy_model.evaluate(test_images, test_labels, verbose=2)\n",
        "print('\\nTest accuracy:', test_acc)"
      ],
      "metadata": {
        "colab": {
          "base_uri": "https://localhost:8080/"
        },
        "id": "IGdaXub-ve06",
        "outputId": "666a9820-f658-4371-af22-81e9e69fb744"
      },
      "execution_count": null,
      "outputs": [
        {
          "output_type": "stream",
          "name": "stdout",
          "text": [
            "313/313 - 0s - 1ms/step - accuracy: 0.9527 - loss: 0.4684\n",
            "\n",
            "Test accuracy: 0.9527000188827515\n"
          ]
        }
      ]
    },
    {
      "cell_type": "markdown",
      "source": [
        "An array of noise levels is defined to be used in the further loop. For each entry in the array the model is retrained from scratch on the noisy version of the data set. Then its accuracy on the clean set is tested. The accuracies are stored in an empty array for plotting and are displayed on the graph. The graph depicts the highest performance on noise level = 5 this means a small addition of noise has benefitted the models accuracy but as the noise increases drastically it counteracts and deteriarates the performance of the model. The performance is defined here as the test accuracy, but also could be counted as the accuracy after implemenation of the noise and in both of these categories the model performs relatively well."
      ],
      "metadata": {
        "id": "BlnqqkqPEx2C"
      }
    },
    {
      "cell_type": "code",
      "source": [
        "noise_levels = [0, 5, 10, 20, 30, 40, 50]\n",
        "\n",
        "accuracy_diff_noise = []\n",
        "\n",
        "for noise in noise_levels:\n",
        "  copy_model = keras.models.clone_model(model)\n",
        "  copy_model.compile(loss=tf.keras.losses.SparseCategoricalCrossentropy(from_logits=True), optimizer='adam', metrics=['accuracy'])\n",
        "  noisy_test_images = addNoiseToMNIST(noise, train_images)\n",
        "  copy_model.fit(noisy_test_images, train_labels,batch_size=100, epochs=30, validation_split = 0.1)\n",
        "  _, test_acc = copy_model.evaluate(test_images, test_labels, verbose=2)\n",
        "  accuracy_diff_noise.append(test_acc)\n",
        "\n",
        "best_noise = noise_levels[np.argmax(accuracy_diff_noise)]\n",
        "print(f\"Best noise level: {best_noise}\")\n",
        "plt.plot(noise_levels, accuracy_diff_noise, marker='o')\n",
        "plt.xlabel('Noise Level')\n",
        "plt.ylabel('Accuracy')\n",
        "plt.title('Accuracy vs. Noise Level')\n",
        "\n",
        "plt.show()\n"
      ],
      "metadata": {
        "colab": {
          "base_uri": "https://localhost:8080/",
          "height": 1000
        },
        "id": "XFS7OZ0S6w8D",
        "outputId": "344b085f-de97-492c-a5f9-1a3896c6ac1b"
      },
      "execution_count": null,
      "outputs": [
        {
          "output_type": "stream",
          "name": "stdout",
          "text": [
            "Epoch 1/30\n",
            "\u001b[1m540/540\u001b[0m \u001b[32m━━━━━━━━━━━━━━━━━━━━\u001b[0m\u001b[37m\u001b[0m \u001b[1m4s\u001b[0m 3ms/step - accuracy: 0.7920 - loss: 12.7165 - val_accuracy: 0.9067 - val_loss: 0.7637\n",
            "Epoch 2/30\n",
            "\u001b[1m540/540\u001b[0m \u001b[32m━━━━━━━━━━━━━━━━━━━━\u001b[0m\u001b[37m\u001b[0m \u001b[1m2s\u001b[0m 3ms/step - accuracy: 0.9092 - loss: 0.6421 - val_accuracy: 0.9212 - val_loss: 0.4117\n",
            "Epoch 3/30\n",
            "\u001b[1m540/540\u001b[0m \u001b[32m━━━━━━━━━━━━━━━━━━━━\u001b[0m\u001b[37m\u001b[0m \u001b[1m2s\u001b[0m 3ms/step - accuracy: 0.9284 - loss: 0.3312 - val_accuracy: 0.9433 - val_loss: 0.3142\n",
            "Epoch 4/30\n",
            "\u001b[1m540/540\u001b[0m \u001b[32m━━━━━━━━━━━━━━━━━━━━\u001b[0m\u001b[37m\u001b[0m \u001b[1m2s\u001b[0m 3ms/step - accuracy: 0.9427 - loss: 0.2375 - val_accuracy: 0.9497 - val_loss: 0.2719\n",
            "Epoch 5/30\n",
            "\u001b[1m540/540\u001b[0m \u001b[32m━━━━━━━━━━━━━━━━━━━━\u001b[0m\u001b[37m\u001b[0m \u001b[1m3s\u001b[0m 4ms/step - accuracy: 0.9492 - loss: 0.1975 - val_accuracy: 0.9543 - val_loss: 0.2484\n",
            "Epoch 6/30\n",
            "\u001b[1m540/540\u001b[0m \u001b[32m━━━━━━━━━━━━━━━━━━━━\u001b[0m\u001b[37m\u001b[0m \u001b[1m3s\u001b[0m 4ms/step - accuracy: 0.9575 - loss: 0.1697 - val_accuracy: 0.9537 - val_loss: 0.2446\n",
            "Epoch 7/30\n",
            "\u001b[1m540/540\u001b[0m \u001b[32m━━━━━━━━━━━━━━━━━━━━\u001b[0m\u001b[37m\u001b[0m \u001b[1m2s\u001b[0m 3ms/step - accuracy: 0.9616 - loss: 0.1432 - val_accuracy: 0.9530 - val_loss: 0.2476\n",
            "Epoch 8/30\n",
            "\u001b[1m540/540\u001b[0m \u001b[32m━━━━━━━━━━━━━━━━━━━━\u001b[0m\u001b[37m\u001b[0m \u001b[1m3s\u001b[0m 3ms/step - accuracy: 0.9624 - loss: 0.1369 - val_accuracy: 0.9555 - val_loss: 0.2224\n",
            "Epoch 9/30\n",
            "\u001b[1m540/540\u001b[0m \u001b[32m━━━━━━━━━━━━━━━━━━━━\u001b[0m\u001b[37m\u001b[0m \u001b[1m2s\u001b[0m 3ms/step - accuracy: 0.9644 - loss: 0.1322 - val_accuracy: 0.9577 - val_loss: 0.2167\n",
            "Epoch 10/30\n",
            "\u001b[1m540/540\u001b[0m \u001b[32m━━━━━━━━━━━━━━━━━━━━\u001b[0m\u001b[37m\u001b[0m \u001b[1m3s\u001b[0m 3ms/step - accuracy: 0.9669 - loss: 0.1278 - val_accuracy: 0.9547 - val_loss: 0.2209\n",
            "Epoch 11/30\n",
            "\u001b[1m540/540\u001b[0m \u001b[32m━━━━━━━━━━━━━━━━━━━━\u001b[0m\u001b[37m\u001b[0m \u001b[1m3s\u001b[0m 5ms/step - accuracy: 0.9636 - loss: 0.1438 - val_accuracy: 0.9525 - val_loss: 0.2354\n",
            "Epoch 12/30\n",
            "\u001b[1m540/540\u001b[0m \u001b[32m━━━━━━━━━━━━━━━━━━━━\u001b[0m\u001b[37m\u001b[0m \u001b[1m2s\u001b[0m 4ms/step - accuracy: 0.9707 - loss: 0.1050 - val_accuracy: 0.9615 - val_loss: 0.1996\n",
            "Epoch 13/30\n",
            "\u001b[1m540/540\u001b[0m \u001b[32m━━━━━━━━━━━━━━━━━━━━\u001b[0m\u001b[37m\u001b[0m \u001b[1m2s\u001b[0m 3ms/step - accuracy: 0.9720 - loss: 0.1001 - val_accuracy: 0.9630 - val_loss: 0.2188\n",
            "Epoch 14/30\n",
            "\u001b[1m540/540\u001b[0m \u001b[32m━━━━━━━━━━━━━━━━━━━━\u001b[0m\u001b[37m\u001b[0m \u001b[1m3s\u001b[0m 4ms/step - accuracy: 0.9691 - loss: 0.1224 - val_accuracy: 0.9603 - val_loss: 0.2001\n",
            "Epoch 15/30\n",
            "\u001b[1m540/540\u001b[0m \u001b[32m━━━━━━━━━━━━━━━━━━━━\u001b[0m\u001b[37m\u001b[0m \u001b[1m3s\u001b[0m 4ms/step - accuracy: 0.9704 - loss: 0.1148 - val_accuracy: 0.9585 - val_loss: 0.2154\n",
            "Epoch 16/30\n",
            "\u001b[1m540/540\u001b[0m \u001b[32m━━━━━━━━━━━━━━━━━━━━\u001b[0m\u001b[37m\u001b[0m \u001b[1m3s\u001b[0m 5ms/step - accuracy: 0.9733 - loss: 0.1049 - val_accuracy: 0.9617 - val_loss: 0.2107\n",
            "Epoch 17/30\n",
            "\u001b[1m540/540\u001b[0m \u001b[32m━━━━━━━━━━━━━━━━━━━━\u001b[0m\u001b[37m\u001b[0m \u001b[1m4s\u001b[0m 3ms/step - accuracy: 0.9725 - loss: 0.1005 - val_accuracy: 0.9653 - val_loss: 0.1950\n",
            "Epoch 18/30\n",
            "\u001b[1m540/540\u001b[0m \u001b[32m━━━━━━━━━━━━━━━━━━━━\u001b[0m\u001b[37m\u001b[0m \u001b[1m2s\u001b[0m 4ms/step - accuracy: 0.9765 - loss: 0.0887 - val_accuracy: 0.9625 - val_loss: 0.2249\n",
            "Epoch 19/30\n",
            "\u001b[1m540/540\u001b[0m \u001b[32m━━━━━━━━━━━━━━━━━━━━\u001b[0m\u001b[37m\u001b[0m \u001b[1m3s\u001b[0m 4ms/step - accuracy: 0.9760 - loss: 0.0931 - val_accuracy: 0.9608 - val_loss: 0.2500\n",
            "Epoch 20/30\n",
            "\u001b[1m540/540\u001b[0m \u001b[32m━━━━━━━━━━━━━━━━━━━━\u001b[0m\u001b[37m\u001b[0m \u001b[1m3s\u001b[0m 5ms/step - accuracy: 0.9768 - loss: 0.0882 - val_accuracy: 0.9630 - val_loss: 0.2329\n",
            "Epoch 21/30\n",
            "\u001b[1m540/540\u001b[0m \u001b[32m━━━━━━━━━━━━━━━━━━━━\u001b[0m\u001b[37m\u001b[0m \u001b[1m4s\u001b[0m 3ms/step - accuracy: 0.9763 - loss: 0.0935 - val_accuracy: 0.9658 - val_loss: 0.1915\n",
            "Epoch 22/30\n",
            "\u001b[1m540/540\u001b[0m \u001b[32m━━━━━━━━━━━━━━━━━━━━\u001b[0m\u001b[37m\u001b[0m \u001b[1m3s\u001b[0m 3ms/step - accuracy: 0.9803 - loss: 0.0739 - val_accuracy: 0.9638 - val_loss: 0.2302\n",
            "Epoch 23/30\n",
            "\u001b[1m540/540\u001b[0m \u001b[32m━━━━━━━━━━━━━━━━━━━━\u001b[0m\u001b[37m\u001b[0m \u001b[1m2s\u001b[0m 3ms/step - accuracy: 0.9783 - loss: 0.0807 - val_accuracy: 0.9618 - val_loss: 0.2461\n",
            "Epoch 24/30\n",
            "\u001b[1m540/540\u001b[0m \u001b[32m━━━━━━━━━━━━━━━━━━━━\u001b[0m\u001b[37m\u001b[0m \u001b[1m3s\u001b[0m 3ms/step - accuracy: 0.9768 - loss: 0.0876 - val_accuracy: 0.9650 - val_loss: 0.2586\n",
            "Epoch 25/30\n",
            "\u001b[1m540/540\u001b[0m \u001b[32m━━━━━━━━━━━━━━━━━━━━\u001b[0m\u001b[37m\u001b[0m \u001b[1m3s\u001b[0m 5ms/step - accuracy: 0.9813 - loss: 0.0773 - val_accuracy: 0.9603 - val_loss: 0.2846\n",
            "Epoch 26/30\n",
            "\u001b[1m540/540\u001b[0m \u001b[32m━━━━━━━━━━━━━━━━━━━━\u001b[0m\u001b[37m\u001b[0m \u001b[1m4s\u001b[0m 3ms/step - accuracy: 0.9793 - loss: 0.0902 - val_accuracy: 0.9643 - val_loss: 0.2332\n",
            "Epoch 27/30\n",
            "\u001b[1m540/540\u001b[0m \u001b[32m━━━━━━━━━━━━━━━━━━━━\u001b[0m\u001b[37m\u001b[0m \u001b[1m2s\u001b[0m 3ms/step - accuracy: 0.9807 - loss: 0.0726 - val_accuracy: 0.9660 - val_loss: 0.2552\n",
            "Epoch 28/30\n",
            "\u001b[1m540/540\u001b[0m \u001b[32m━━━━━━━━━━━━━━━━━━━━\u001b[0m\u001b[37m\u001b[0m \u001b[1m2s\u001b[0m 3ms/step - accuracy: 0.9811 - loss: 0.0796 - val_accuracy: 0.9688 - val_loss: 0.2623\n",
            "Epoch 29/30\n",
            "\u001b[1m540/540\u001b[0m \u001b[32m━━━━━━━━━━━━━━━━━━━━\u001b[0m\u001b[37m\u001b[0m \u001b[1m3s\u001b[0m 3ms/step - accuracy: 0.9808 - loss: 0.0834 - val_accuracy: 0.9642 - val_loss: 0.2365\n",
            "Epoch 30/30\n",
            "\u001b[1m540/540\u001b[0m \u001b[32m━━━━━━━━━━━━━━━━━━━━\u001b[0m\u001b[37m\u001b[0m \u001b[1m4s\u001b[0m 5ms/step - accuracy: 0.9819 - loss: 0.0754 - val_accuracy: 0.9677 - val_loss: 0.2860\n",
            "313/313 - 0s - 1ms/step - accuracy: 0.9609 - loss: 0.3727\n",
            "Epoch 1/30\n",
            "\u001b[1m540/540\u001b[0m \u001b[32m━━━━━━━━━━━━━━━━━━━━\u001b[0m\u001b[37m\u001b[0m \u001b[1m3s\u001b[0m 4ms/step - accuracy: 0.7910 - loss: 11.7087 - val_accuracy: 0.8730 - val_loss: 0.6643\n",
            "Epoch 2/30\n",
            "\u001b[1m540/540\u001b[0m \u001b[32m━━━━━━━━━━━━━━━━━━━━\u001b[0m\u001b[37m\u001b[0m \u001b[1m2s\u001b[0m 3ms/step - accuracy: 0.8712 - loss: 0.6126 - val_accuracy: 0.9005 - val_loss: 0.4301\n",
            "Epoch 3/30\n",
            "\u001b[1m540/540\u001b[0m \u001b[32m━━━━━━━━━━━━━━━━━━━━\u001b[0m\u001b[37m\u001b[0m \u001b[1m4s\u001b[0m 5ms/step - accuracy: 0.9104 - loss: 0.3541 - val_accuracy: 0.9240 - val_loss: 0.3505\n",
            "Epoch 4/30\n",
            "\u001b[1m540/540\u001b[0m \u001b[32m━━━━━━━━━━━━━━━━━━━━\u001b[0m\u001b[37m\u001b[0m \u001b[1m4s\u001b[0m 3ms/step - accuracy: 0.9307 - loss: 0.2587 - val_accuracy: 0.9300 - val_loss: 0.3349\n",
            "Epoch 5/30\n",
            "\u001b[1m540/540\u001b[0m \u001b[32m━━━━━━━━━━━━━━━━━━━━\u001b[0m\u001b[37m\u001b[0m \u001b[1m2s\u001b[0m 3ms/step - accuracy: 0.9366 - loss: 0.2209 - val_accuracy: 0.9407 - val_loss: 0.2909\n",
            "Epoch 6/30\n",
            "\u001b[1m540/540\u001b[0m \u001b[32m━━━━━━━━━━━━━━━━━━━━\u001b[0m\u001b[37m\u001b[0m \u001b[1m2s\u001b[0m 3ms/step - accuracy: 0.9486 - loss: 0.1856 - val_accuracy: 0.9440 - val_loss: 0.2571\n",
            "Epoch 7/30\n",
            "\u001b[1m540/540\u001b[0m \u001b[32m━━━━━━━━━━━━━━━━━━━━\u001b[0m\u001b[37m\u001b[0m \u001b[1m3s\u001b[0m 3ms/step - accuracy: 0.9528 - loss: 0.1656 - val_accuracy: 0.9487 - val_loss: 0.2262\n",
            "Epoch 8/30\n",
            "\u001b[1m540/540\u001b[0m \u001b[32m━━━━━━━━━━━━━━━━━━━━\u001b[0m\u001b[37m\u001b[0m \u001b[1m3s\u001b[0m 4ms/step - accuracy: 0.9532 - loss: 0.1597 - val_accuracy: 0.9503 - val_loss: 0.2284\n",
            "Epoch 9/30\n",
            "\u001b[1m540/540\u001b[0m \u001b[32m━━━━━━━━━━━━━━━━━━━━\u001b[0m\u001b[37m\u001b[0m \u001b[1m2s\u001b[0m 3ms/step - accuracy: 0.9579 - loss: 0.1520 - val_accuracy: 0.9515 - val_loss: 0.2265\n",
            "Epoch 10/30\n",
            "\u001b[1m540/540\u001b[0m \u001b[32m━━━━━━━━━━━━━━━━━━━━\u001b[0m\u001b[37m\u001b[0m \u001b[1m2s\u001b[0m 3ms/step - accuracy: 0.9593 - loss: 0.1421 - val_accuracy: 0.9553 - val_loss: 0.1954\n",
            "Epoch 11/30\n",
            "\u001b[1m540/540\u001b[0m \u001b[32m━━━━━━━━━━━━━━━━━━━━\u001b[0m\u001b[37m\u001b[0m \u001b[1m2s\u001b[0m 3ms/step - accuracy: 0.9643 - loss: 0.1211 - val_accuracy: 0.9572 - val_loss: 0.1848\n",
            "Epoch 12/30\n",
            "\u001b[1m540/540\u001b[0m \u001b[32m━━━━━━━━━━━━━━━━━━━━\u001b[0m\u001b[37m\u001b[0m \u001b[1m2s\u001b[0m 3ms/step - accuracy: 0.9638 - loss: 0.1238 - val_accuracy: 0.9620 - val_loss: 0.1764\n",
            "Epoch 13/30\n",
            "\u001b[1m540/540\u001b[0m \u001b[32m━━━━━━━━━━━━━━━━━━━━\u001b[0m\u001b[37m\u001b[0m \u001b[1m3s\u001b[0m 4ms/step - accuracy: 0.9678 - loss: 0.1135 - val_accuracy: 0.9617 - val_loss: 0.1921\n",
            "Epoch 14/30\n",
            "\u001b[1m540/540\u001b[0m \u001b[32m━━━━━━━━━━━━━━━━━━━━\u001b[0m\u001b[37m\u001b[0m \u001b[1m2s\u001b[0m 4ms/step - accuracy: 0.9680 - loss: 0.1110 - val_accuracy: 0.9618 - val_loss: 0.1895\n",
            "Epoch 15/30\n",
            "\u001b[1m540/540\u001b[0m \u001b[32m━━━━━━━━━━━━━━━━━━━━\u001b[0m\u001b[37m\u001b[0m \u001b[1m2s\u001b[0m 3ms/step - accuracy: 0.9718 - loss: 0.1020 - val_accuracy: 0.9617 - val_loss: 0.1887\n",
            "Epoch 16/30\n",
            "\u001b[1m540/540\u001b[0m \u001b[32m━━━━━━━━━━━━━━━━━━━━\u001b[0m\u001b[37m\u001b[0m \u001b[1m2s\u001b[0m 3ms/step - accuracy: 0.9727 - loss: 0.0930 - val_accuracy: 0.9593 - val_loss: 0.1952\n",
            "Epoch 17/30\n",
            "\u001b[1m540/540\u001b[0m \u001b[32m━━━━━━━━━━━━━━━━━━━━\u001b[0m\u001b[37m\u001b[0m \u001b[1m2s\u001b[0m 3ms/step - accuracy: 0.9735 - loss: 0.0933 - val_accuracy: 0.9627 - val_loss: 0.1896\n",
            "Epoch 18/30\n",
            "\u001b[1m540/540\u001b[0m \u001b[32m━━━━━━━━━━━━━━━━━━━━\u001b[0m\u001b[37m\u001b[0m \u001b[1m2s\u001b[0m 3ms/step - accuracy: 0.9751 - loss: 0.0910 - val_accuracy: 0.9608 - val_loss: 0.1934\n",
            "Epoch 19/30\n",
            "\u001b[1m540/540\u001b[0m \u001b[32m━━━━━━━━━━━━━━━━━━━━\u001b[0m\u001b[37m\u001b[0m \u001b[1m2s\u001b[0m 3ms/step - accuracy: 0.9725 - loss: 0.1005 - val_accuracy: 0.9660 - val_loss: 0.1846\n",
            "Epoch 20/30\n",
            "\u001b[1m540/540\u001b[0m \u001b[32m━━━━━━━━━━━━━━━━━━━━\u001b[0m\u001b[37m\u001b[0m \u001b[1m3s\u001b[0m 5ms/step - accuracy: 0.9760 - loss: 0.0831 - val_accuracy: 0.9633 - val_loss: 0.2117\n",
            "Epoch 21/30\n",
            "\u001b[1m540/540\u001b[0m \u001b[32m━━━━━━━━━━━━━━━━━━━━\u001b[0m\u001b[37m\u001b[0m \u001b[1m4s\u001b[0m 3ms/step - accuracy: 0.9748 - loss: 0.0939 - val_accuracy: 0.9595 - val_loss: 0.2020\n",
            "Epoch 22/30\n",
            "\u001b[1m540/540\u001b[0m \u001b[32m━━━━━━━━━━━━━━━━━━━━\u001b[0m\u001b[37m\u001b[0m \u001b[1m3s\u001b[0m 3ms/step - accuracy: 0.9763 - loss: 0.0842 - val_accuracy: 0.9633 - val_loss: 0.1949\n",
            "Epoch 23/30\n",
            "\u001b[1m540/540\u001b[0m \u001b[32m━━━━━━━━━━━━━━━━━━━━\u001b[0m\u001b[37m\u001b[0m \u001b[1m2s\u001b[0m 3ms/step - accuracy: 0.9796 - loss: 0.0702 - val_accuracy: 0.9682 - val_loss: 0.2008\n",
            "Epoch 24/30\n",
            "\u001b[1m540/540\u001b[0m \u001b[32m━━━━━━━━━━━━━━━━━━━━\u001b[0m\u001b[37m\u001b[0m \u001b[1m2s\u001b[0m 4ms/step - accuracy: 0.9778 - loss: 0.0834 - val_accuracy: 0.9642 - val_loss: 0.2148\n",
            "Epoch 25/30\n",
            "\u001b[1m540/540\u001b[0m \u001b[32m━━━━━━━━━━━━━━━━━━━━\u001b[0m\u001b[37m\u001b[0m \u001b[1m3s\u001b[0m 5ms/step - accuracy: 0.9811 - loss: 0.0682 - val_accuracy: 0.9585 - val_loss: 0.2622\n",
            "Epoch 26/30\n",
            "\u001b[1m540/540\u001b[0m \u001b[32m━━━━━━━━━━━━━━━━━━━━\u001b[0m\u001b[37m\u001b[0m \u001b[1m2s\u001b[0m 3ms/step - accuracy: 0.9785 - loss: 0.0812 - val_accuracy: 0.9625 - val_loss: 0.2306\n",
            "Epoch 27/30\n",
            "\u001b[1m540/540\u001b[0m \u001b[32m━━━━━━━━━━━━━━━━━━━━\u001b[0m\u001b[37m\u001b[0m \u001b[1m3s\u001b[0m 3ms/step - accuracy: 0.9803 - loss: 0.0754 - val_accuracy: 0.9667 - val_loss: 0.2207\n",
            "Epoch 28/30\n",
            "\u001b[1m540/540\u001b[0m \u001b[32m━━━━━━━━━━━━━━━━━━━━\u001b[0m\u001b[37m\u001b[0m \u001b[1m2s\u001b[0m 3ms/step - accuracy: 0.9802 - loss: 0.0755 - val_accuracy: 0.9678 - val_loss: 0.2192\n",
            "Epoch 29/30\n",
            "\u001b[1m540/540\u001b[0m \u001b[32m━━━━━━━━━━━━━━━━━━━━\u001b[0m\u001b[37m\u001b[0m \u001b[1m3s\u001b[0m 3ms/step - accuracy: 0.9823 - loss: 0.0648 - val_accuracy: 0.9610 - val_loss: 0.2587\n",
            "Epoch 30/30\n",
            "\u001b[1m540/540\u001b[0m \u001b[32m━━━━━━━━━━━━━━━━━━━━\u001b[0m\u001b[37m\u001b[0m \u001b[1m4s\u001b[0m 5ms/step - accuracy: 0.9825 - loss: 0.0677 - val_accuracy: 0.9595 - val_loss: 0.2667\n",
            "313/313 - 0s - 1ms/step - accuracy: 0.9610 - loss: 0.4031\n",
            "Epoch 1/30\n",
            "\u001b[1m540/540\u001b[0m \u001b[32m━━━━━━━━━━━━━━━━━━━━\u001b[0m\u001b[37m\u001b[0m \u001b[1m3s\u001b[0m 3ms/step - accuracy: 0.7811 - loss: 10.7525 - val_accuracy: 0.8827 - val_loss: 0.5285\n",
            "Epoch 2/30\n",
            "\u001b[1m540/540\u001b[0m \u001b[32m━━━━━━━━━━━━━━━━━━━━\u001b[0m\u001b[37m\u001b[0m \u001b[1m2s\u001b[0m 3ms/step - accuracy: 0.8802 - loss: 0.5453 - val_accuracy: 0.9203 - val_loss: 0.3536\n",
            "Epoch 3/30\n",
            "\u001b[1m540/540\u001b[0m \u001b[32m━━━━━━━━━━━━━━━━━━━━\u001b[0m\u001b[37m\u001b[0m \u001b[1m2s\u001b[0m 3ms/step - accuracy: 0.9206 - loss: 0.3120 - val_accuracy: 0.9358 - val_loss: 0.2943\n",
            "Epoch 4/30\n",
            "\u001b[1m540/540\u001b[0m \u001b[32m━━━━━━━━━━━━━━━━━━━━\u001b[0m\u001b[37m\u001b[0m \u001b[1m3s\u001b[0m 4ms/step - accuracy: 0.9323 - loss: 0.2527 - val_accuracy: 0.9425 - val_loss: 0.2497\n",
            "Epoch 5/30\n",
            "\u001b[1m540/540\u001b[0m \u001b[32m━━━━━━━━━━━━━━━━━━━━\u001b[0m\u001b[37m\u001b[0m \u001b[1m2s\u001b[0m 3ms/step - accuracy: 0.9445 - loss: 0.1984 - val_accuracy: 0.9468 - val_loss: 0.2188\n",
            "Epoch 6/30\n",
            "\u001b[1m540/540\u001b[0m \u001b[32m━━━━━━━━━━━━━━━━━━━━\u001b[0m\u001b[37m\u001b[0m \u001b[1m3s\u001b[0m 3ms/step - accuracy: 0.9479 - loss: 0.1759 - val_accuracy: 0.9447 - val_loss: 0.2257\n",
            "Epoch 7/30\n",
            "\u001b[1m540/540\u001b[0m \u001b[32m━━━━━━━━━━━━━━━━━━━━\u001b[0m\u001b[37m\u001b[0m \u001b[1m2s\u001b[0m 3ms/step - accuracy: 0.9541 - loss: 0.1615 - val_accuracy: 0.9498 - val_loss: 0.2201\n",
            "Epoch 8/30\n",
            "\u001b[1m540/540\u001b[0m \u001b[32m━━━━━━━━━━━━━━━━━━━━\u001b[0m\u001b[37m\u001b[0m \u001b[1m3s\u001b[0m 3ms/step - accuracy: 0.9556 - loss: 0.1536 - val_accuracy: 0.9568 - val_loss: 0.1779\n",
            "Epoch 9/30\n",
            "\u001b[1m540/540\u001b[0m \u001b[32m━━━━━━━━━━━━━━━━━━━━\u001b[0m\u001b[37m\u001b[0m \u001b[1m2s\u001b[0m 4ms/step - accuracy: 0.9581 - loss: 0.1483 - val_accuracy: 0.9448 - val_loss: 0.2392\n",
            "Epoch 10/30\n",
            "\u001b[1m540/540\u001b[0m \u001b[32m━━━━━━━━━━━━━━━━━━━━\u001b[0m\u001b[37m\u001b[0m \u001b[1m3s\u001b[0m 4ms/step - accuracy: 0.9604 - loss: 0.1376 - val_accuracy: 0.9605 - val_loss: 0.1795\n",
            "Epoch 11/30\n",
            "\u001b[1m540/540\u001b[0m \u001b[32m━━━━━━━━━━━━━━━━━━━━\u001b[0m\u001b[37m\u001b[0m \u001b[1m2s\u001b[0m 3ms/step - accuracy: 0.9628 - loss: 0.1302 - val_accuracy: 0.9572 - val_loss: 0.1840\n",
            "Epoch 12/30\n",
            "\u001b[1m540/540\u001b[0m \u001b[32m━━━━━━━━━━━━━━━━━━━━\u001b[0m\u001b[37m\u001b[0m \u001b[1m2s\u001b[0m 3ms/step - accuracy: 0.9640 - loss: 0.1286 - val_accuracy: 0.9587 - val_loss: 0.1695\n",
            "Epoch 13/30\n",
            "\u001b[1m540/540\u001b[0m \u001b[32m━━━━━━━━━━━━━━━━━━━━\u001b[0m\u001b[37m\u001b[0m \u001b[1m3s\u001b[0m 3ms/step - accuracy: 0.9643 - loss: 0.1292 - val_accuracy: 0.9587 - val_loss: 0.1832\n",
            "Epoch 14/30\n",
            "\u001b[1m540/540\u001b[0m \u001b[32m━━━━━━━━━━━━━━━━━━━━\u001b[0m\u001b[37m\u001b[0m \u001b[1m3s\u001b[0m 3ms/step - accuracy: 0.9680 - loss: 0.1164 - val_accuracy: 0.9597 - val_loss: 0.1712\n",
            "Epoch 15/30\n",
            "\u001b[1m540/540\u001b[0m \u001b[32m━━━━━━━━━━━━━━━━━━━━\u001b[0m\u001b[37m\u001b[0m \u001b[1m3s\u001b[0m 4ms/step - accuracy: 0.9672 - loss: 0.1164 - val_accuracy: 0.9652 - val_loss: 0.1545\n",
            "Epoch 16/30\n",
            "\u001b[1m540/540\u001b[0m \u001b[32m━━━━━━━━━━━━━━━━━━━━\u001b[0m\u001b[37m\u001b[0m \u001b[1m2s\u001b[0m 3ms/step - accuracy: 0.9708 - loss: 0.1042 - val_accuracy: 0.9653 - val_loss: 0.1527\n",
            "Epoch 17/30\n",
            "\u001b[1m540/540\u001b[0m \u001b[32m━━━━━━━━━━━━━━━━━━━━\u001b[0m\u001b[37m\u001b[0m \u001b[1m3s\u001b[0m 3ms/step - accuracy: 0.9708 - loss: 0.1021 - val_accuracy: 0.9625 - val_loss: 0.1613\n",
            "Epoch 18/30\n",
            "\u001b[1m540/540\u001b[0m \u001b[32m━━━━━━━━━━━━━━━━━━━━\u001b[0m\u001b[37m\u001b[0m \u001b[1m3s\u001b[0m 3ms/step - accuracy: 0.9703 - loss: 0.1057 - val_accuracy: 0.9617 - val_loss: 0.1884\n",
            "Epoch 19/30\n",
            "\u001b[1m540/540\u001b[0m \u001b[32m━━━━━━━━━━━━━━━━━━━━\u001b[0m\u001b[37m\u001b[0m \u001b[1m2s\u001b[0m 3ms/step - accuracy: 0.9734 - loss: 0.0925 - val_accuracy: 0.9608 - val_loss: 0.1614\n",
            "Epoch 20/30\n",
            "\u001b[1m540/540\u001b[0m \u001b[32m━━━━━━━━━━━━━━━━━━━━\u001b[0m\u001b[37m\u001b[0m \u001b[1m3s\u001b[0m 5ms/step - accuracy: 0.9732 - loss: 0.0904 - val_accuracy: 0.9602 - val_loss: 0.2089\n",
            "Epoch 21/30\n",
            "\u001b[1m540/540\u001b[0m \u001b[32m━━━━━━━━━━━━━━━━━━━━\u001b[0m\u001b[37m\u001b[0m \u001b[1m4s\u001b[0m 3ms/step - accuracy: 0.9747 - loss: 0.0878 - val_accuracy: 0.9608 - val_loss: 0.1897\n",
            "Epoch 22/30\n",
            "\u001b[1m540/540\u001b[0m \u001b[32m━━━━━━━━━━━━━━━━━━━━\u001b[0m\u001b[37m\u001b[0m \u001b[1m3s\u001b[0m 3ms/step - accuracy: 0.9727 - loss: 0.0979 - val_accuracy: 0.9585 - val_loss: 0.1967\n",
            "Epoch 23/30\n",
            "\u001b[1m540/540\u001b[0m \u001b[32m━━━━━━━━━━━━━━━━━━━━\u001b[0m\u001b[37m\u001b[0m \u001b[1m2s\u001b[0m 3ms/step - accuracy: 0.9775 - loss: 0.0807 - val_accuracy: 0.9608 - val_loss: 0.2051\n",
            "Epoch 24/30\n",
            "\u001b[1m540/540\u001b[0m \u001b[32m━━━━━━━━━━━━━━━━━━━━\u001b[0m\u001b[37m\u001b[0m \u001b[1m3s\u001b[0m 4ms/step - accuracy: 0.9769 - loss: 0.0862 - val_accuracy: 0.9623 - val_loss: 0.2017\n",
            "Epoch 25/30\n",
            "\u001b[1m540/540\u001b[0m \u001b[32m━━━━━━━━━━━━━━━━━━━━\u001b[0m\u001b[37m\u001b[0m \u001b[1m3s\u001b[0m 5ms/step - accuracy: 0.9783 - loss: 0.0774 - val_accuracy: 0.9583 - val_loss: 0.2503\n",
            "Epoch 26/30\n",
            "\u001b[1m540/540\u001b[0m \u001b[32m━━━━━━━━━━━━━━━━━━━━\u001b[0m\u001b[37m\u001b[0m \u001b[1m2s\u001b[0m 3ms/step - accuracy: 0.9764 - loss: 0.0895 - val_accuracy: 0.9640 - val_loss: 0.2024\n",
            "Epoch 27/30\n",
            "\u001b[1m540/540\u001b[0m \u001b[32m━━━━━━━━━━━━━━━━━━━━\u001b[0m\u001b[37m\u001b[0m \u001b[1m2s\u001b[0m 3ms/step - accuracy: 0.9776 - loss: 0.0800 - val_accuracy: 0.9650 - val_loss: 0.2280\n",
            "Epoch 28/30\n",
            "\u001b[1m540/540\u001b[0m \u001b[32m━━━━━━━━━━━━━━━━━━━━\u001b[0m\u001b[37m\u001b[0m \u001b[1m3s\u001b[0m 3ms/step - accuracy: 0.9787 - loss: 0.0730 - val_accuracy: 0.9652 - val_loss: 0.2101\n",
            "Epoch 29/30\n",
            "\u001b[1m540/540\u001b[0m \u001b[32m━━━━━━━━━━━━━━━━━━━━\u001b[0m\u001b[37m\u001b[0m \u001b[1m2s\u001b[0m 3ms/step - accuracy: 0.9800 - loss: 0.0686 - val_accuracy: 0.9615 - val_loss: 0.2386\n",
            "Epoch 30/30\n",
            "\u001b[1m540/540\u001b[0m \u001b[32m━━━━━━━━━━━━━━━━━━━━\u001b[0m\u001b[37m\u001b[0m \u001b[1m3s\u001b[0m 3ms/step - accuracy: 0.9772 - loss: 0.0877 - val_accuracy: 0.9637 - val_loss: 0.2312\n",
            "313/313 - 1s - 2ms/step - accuracy: 0.9577 - loss: 0.4506\n",
            "Epoch 1/30\n",
            "\u001b[1m540/540\u001b[0m \u001b[32m━━━━━━━━━━━━━━━━━━━━\u001b[0m\u001b[37m\u001b[0m \u001b[1m3s\u001b[0m 3ms/step - accuracy: 0.7806 - loss: 15.2699 - val_accuracy: 0.9225 - val_loss: 1.3845\n",
            "Epoch 2/30\n",
            "\u001b[1m540/540\u001b[0m \u001b[32m━━━━━━━━━━━━━━━━━━━━\u001b[0m\u001b[37m\u001b[0m \u001b[1m2s\u001b[0m 3ms/step - accuracy: 0.9162 - loss: 1.3084 - val_accuracy: 0.9202 - val_loss: 0.5856\n",
            "Epoch 3/30\n",
            "\u001b[1m540/540\u001b[0m \u001b[32m━━━━━━━━━━━━━━━━━━━━\u001b[0m\u001b[37m\u001b[0m \u001b[1m3s\u001b[0m 3ms/step - accuracy: 0.9225 - loss: 0.5421 - val_accuracy: 0.9303 - val_loss: 0.3467\n",
            "Epoch 4/30\n",
            "\u001b[1m540/540\u001b[0m \u001b[32m━━━━━━━━━━━━━━━━━━━━\u001b[0m\u001b[37m\u001b[0m \u001b[1m2s\u001b[0m 3ms/step - accuracy: 0.9341 - loss: 0.2999 - val_accuracy: 0.9373 - val_loss: 0.3435\n",
            "Epoch 5/30\n",
            "\u001b[1m540/540\u001b[0m \u001b[32m━━━━━━━━━━━━━━━━━━━━\u001b[0m\u001b[37m\u001b[0m \u001b[1m2s\u001b[0m 3ms/step - accuracy: 0.9468 - loss: 0.2328 - val_accuracy: 0.9405 - val_loss: 0.2952\n",
            "Epoch 6/30\n",
            "\u001b[1m540/540\u001b[0m \u001b[32m━━━━━━━━━━━━━━━━━━━━\u001b[0m\u001b[37m\u001b[0m \u001b[1m3s\u001b[0m 5ms/step - accuracy: 0.9507 - loss: 0.1965 - val_accuracy: 0.9412 - val_loss: 0.2683\n",
            "Epoch 7/30\n",
            "\u001b[1m540/540\u001b[0m \u001b[32m━━━━━━━━━━━━━━━━━━━━\u001b[0m\u001b[37m\u001b[0m \u001b[1m2s\u001b[0m 3ms/step - accuracy: 0.9556 - loss: 0.1667 - val_accuracy: 0.9517 - val_loss: 0.2280\n",
            "Epoch 8/30\n",
            "\u001b[1m540/540\u001b[0m \u001b[32m━━━━━━━━━━━━━━━━━━━━\u001b[0m\u001b[37m\u001b[0m \u001b[1m2s\u001b[0m 3ms/step - accuracy: 0.9558 - loss: 0.1677 - val_accuracy: 0.9475 - val_loss: 0.2321\n",
            "Epoch 9/30\n",
            "\u001b[1m540/540\u001b[0m \u001b[32m━━━━━━━━━━━━━━━━━━━━\u001b[0m\u001b[37m\u001b[0m \u001b[1m3s\u001b[0m 3ms/step - accuracy: 0.9601 - loss: 0.1469 - val_accuracy: 0.9410 - val_loss: 0.2517\n",
            "Epoch 10/30\n",
            "\u001b[1m540/540\u001b[0m \u001b[32m━━━━━━━━━━━━━━━━━━━━\u001b[0m\u001b[37m\u001b[0m \u001b[1m2s\u001b[0m 3ms/step - accuracy: 0.9581 - loss: 0.1504 - val_accuracy: 0.9480 - val_loss: 0.2265\n",
            "Epoch 11/30\n",
            "\u001b[1m540/540\u001b[0m \u001b[32m━━━━━━━━━━━━━━━━━━━━\u001b[0m\u001b[37m\u001b[0m \u001b[1m4s\u001b[0m 5ms/step - accuracy: 0.9610 - loss: 0.1520 - val_accuracy: 0.9563 - val_loss: 0.2293\n",
            "Epoch 12/30\n",
            "\u001b[1m540/540\u001b[0m \u001b[32m━━━━━━━━━━━━━━━━━━━━\u001b[0m\u001b[37m\u001b[0m \u001b[1m2s\u001b[0m 4ms/step - accuracy: 0.9614 - loss: 0.1480 - val_accuracy: 0.9580 - val_loss: 0.1951\n",
            "Epoch 13/30\n",
            "\u001b[1m540/540\u001b[0m \u001b[32m━━━━━━━━━━━━━━━━━━━━\u001b[0m\u001b[37m\u001b[0m \u001b[1m2s\u001b[0m 3ms/step - accuracy: 0.9676 - loss: 0.1201 - val_accuracy: 0.9600 - val_loss: 0.1971\n",
            "Epoch 14/30\n",
            "\u001b[1m540/540\u001b[0m \u001b[32m━━━━━━━━━━━━━━━━━━━━\u001b[0m\u001b[37m\u001b[0m \u001b[1m2s\u001b[0m 3ms/step - accuracy: 0.9669 - loss: 0.1186 - val_accuracy: 0.9593 - val_loss: 0.2022\n",
            "Epoch 15/30\n",
            "\u001b[1m540/540\u001b[0m \u001b[32m━━━━━━━━━━━━━━━━━━━━\u001b[0m\u001b[37m\u001b[0m \u001b[1m3s\u001b[0m 3ms/step - accuracy: 0.9678 - loss: 0.1141 - val_accuracy: 0.9552 - val_loss: 0.2138\n",
            "Epoch 16/30\n",
            "\u001b[1m540/540\u001b[0m \u001b[32m━━━━━━━━━━━━━━━━━━━━\u001b[0m\u001b[37m\u001b[0m \u001b[1m3s\u001b[0m 3ms/step - accuracy: 0.9678 - loss: 0.1172 - val_accuracy: 0.9532 - val_loss: 0.2315\n",
            "Epoch 17/30\n",
            "\u001b[1m540/540\u001b[0m \u001b[32m━━━━━━━━━━━━━━━━━━━━\u001b[0m\u001b[37m\u001b[0m \u001b[1m3s\u001b[0m 5ms/step - accuracy: 0.9715 - loss: 0.1045 - val_accuracy: 0.9612 - val_loss: 0.1926\n",
            "Epoch 18/30\n",
            "\u001b[1m540/540\u001b[0m \u001b[32m━━━━━━━━━━━━━━━━━━━━\u001b[0m\u001b[37m\u001b[0m \u001b[1m2s\u001b[0m 3ms/step - accuracy: 0.9722 - loss: 0.1057 - val_accuracy: 0.9623 - val_loss: 0.1809\n",
            "Epoch 19/30\n",
            "\u001b[1m540/540\u001b[0m \u001b[32m━━━━━━━━━━━━━━━━━━━━\u001b[0m\u001b[37m\u001b[0m \u001b[1m3s\u001b[0m 3ms/step - accuracy: 0.9725 - loss: 0.1030 - val_accuracy: 0.9592 - val_loss: 0.1781\n",
            "Epoch 20/30\n",
            "\u001b[1m540/540\u001b[0m \u001b[32m━━━━━━━━━━━━━━━━━━━━\u001b[0m\u001b[37m\u001b[0m \u001b[1m3s\u001b[0m 3ms/step - accuracy: 0.9752 - loss: 0.0931 - val_accuracy: 0.9645 - val_loss: 0.2002\n",
            "Epoch 21/30\n",
            "\u001b[1m540/540\u001b[0m \u001b[32m━━━━━━━━━━━━━━━━━━━━\u001b[0m\u001b[37m\u001b[0m \u001b[1m2s\u001b[0m 3ms/step - accuracy: 0.9746 - loss: 0.0965 - val_accuracy: 0.9617 - val_loss: 0.2124\n",
            "Epoch 22/30\n",
            "\u001b[1m540/540\u001b[0m \u001b[32m━━━━━━━━━━━━━━━━━━━━\u001b[0m\u001b[37m\u001b[0m \u001b[1m4s\u001b[0m 5ms/step - accuracy: 0.9742 - loss: 0.1015 - val_accuracy: 0.9653 - val_loss: 0.2123\n",
            "Epoch 23/30\n",
            "\u001b[1m540/540\u001b[0m \u001b[32m━━━━━━━━━━━━━━━━━━━━\u001b[0m\u001b[37m\u001b[0m \u001b[1m4s\u001b[0m 3ms/step - accuracy: 0.9784 - loss: 0.0800 - val_accuracy: 0.9652 - val_loss: 0.1969\n",
            "Epoch 24/30\n",
            "\u001b[1m540/540\u001b[0m \u001b[32m━━━━━━━━━━━━━━━━━━━━\u001b[0m\u001b[37m\u001b[0m \u001b[1m2s\u001b[0m 3ms/step - accuracy: 0.9788 - loss: 0.0808 - val_accuracy: 0.9653 - val_loss: 0.2276\n",
            "Epoch 25/30\n",
            "\u001b[1m540/540\u001b[0m \u001b[32m━━━━━━━━━━━━━━━━━━━━\u001b[0m\u001b[37m\u001b[0m \u001b[1m3s\u001b[0m 3ms/step - accuracy: 0.9802 - loss: 0.0796 - val_accuracy: 0.9660 - val_loss: 0.2039\n",
            "Epoch 26/30\n",
            "\u001b[1m540/540\u001b[0m \u001b[32m━━━━━━━━━━━━━━━━━━━━\u001b[0m\u001b[37m\u001b[0m \u001b[1m3s\u001b[0m 3ms/step - accuracy: 0.9782 - loss: 0.0863 - val_accuracy: 0.9640 - val_loss: 0.2012\n",
            "Epoch 27/30\n",
            "\u001b[1m540/540\u001b[0m \u001b[32m━━━━━━━━━━━━━━━━━━━━\u001b[0m\u001b[37m\u001b[0m \u001b[1m3s\u001b[0m 5ms/step - accuracy: 0.9787 - loss: 0.0797 - val_accuracy: 0.9655 - val_loss: 0.2330\n",
            "Epoch 28/30\n",
            "\u001b[1m540/540\u001b[0m \u001b[32m━━━━━━━━━━━━━━━━━━━━\u001b[0m\u001b[37m\u001b[0m \u001b[1m4s\u001b[0m 3ms/step - accuracy: 0.9810 - loss: 0.0810 - val_accuracy: 0.9650 - val_loss: 0.2320\n",
            "Epoch 29/30\n",
            "\u001b[1m540/540\u001b[0m \u001b[32m━━━━━━━━━━━━━━━━━━━━\u001b[0m\u001b[37m\u001b[0m \u001b[1m2s\u001b[0m 3ms/step - accuracy: 0.9806 - loss: 0.0776 - val_accuracy: 0.9643 - val_loss: 0.2619\n",
            "Epoch 30/30\n",
            "\u001b[1m540/540\u001b[0m \u001b[32m━━━━━━━━━━━━━━━━━━━━\u001b[0m\u001b[37m\u001b[0m \u001b[1m3s\u001b[0m 3ms/step - accuracy: 0.9783 - loss: 0.0861 - val_accuracy: 0.9607 - val_loss: 0.2903\n",
            "313/313 - 0s - 1ms/step - accuracy: 0.9499 - loss: 0.6980\n",
            "Epoch 1/30\n",
            "\u001b[1m540/540\u001b[0m \u001b[32m━━━━━━━━━━━━━━━━━━━━\u001b[0m\u001b[37m\u001b[0m \u001b[1m3s\u001b[0m 4ms/step - accuracy: 0.7579 - loss: 14.4202 - val_accuracy: 0.8572 - val_loss: 0.6764\n",
            "Epoch 2/30\n",
            "\u001b[1m540/540\u001b[0m \u001b[32m━━━━━━━━━━━━━━━━━━━━\u001b[0m\u001b[37m\u001b[0m \u001b[1m2s\u001b[0m 3ms/step - accuracy: 0.8503 - loss: 0.6480 - val_accuracy: 0.8968 - val_loss: 0.4147\n",
            "Epoch 3/30\n",
            "\u001b[1m540/540\u001b[0m \u001b[32m━━━━━━━━━━━━━━━━━━━━\u001b[0m\u001b[37m\u001b[0m \u001b[1m2s\u001b[0m 3ms/step - accuracy: 0.8904 - loss: 0.4178 - val_accuracy: 0.9218 - val_loss: 0.3336\n",
            "Epoch 4/30\n",
            "\u001b[1m540/540\u001b[0m \u001b[32m━━━━━━━━━━━━━━━━━━━━\u001b[0m\u001b[37m\u001b[0m \u001b[1m3s\u001b[0m 3ms/step - accuracy: 0.9119 - loss: 0.3232 - val_accuracy: 0.9233 - val_loss: 0.2949\n",
            "Epoch 5/30\n",
            "\u001b[1m540/540\u001b[0m \u001b[32m━━━━━━━━━━━━━━━━━━━━\u001b[0m\u001b[37m\u001b[0m \u001b[1m2s\u001b[0m 3ms/step - accuracy: 0.9220 - loss: 0.2783 - val_accuracy: 0.9383 - val_loss: 0.2707\n",
            "Epoch 6/30\n",
            "\u001b[1m540/540\u001b[0m \u001b[32m━━━━━━━━━━━━━━━━━━━━\u001b[0m\u001b[37m\u001b[0m \u001b[1m3s\u001b[0m 5ms/step - accuracy: 0.9354 - loss: 0.2370 - val_accuracy: 0.9400 - val_loss: 0.2351\n",
            "Epoch 7/30\n",
            "\u001b[1m540/540\u001b[0m \u001b[32m━━━━━━━━━━━━━━━━━━━━\u001b[0m\u001b[37m\u001b[0m \u001b[1m4s\u001b[0m 3ms/step - accuracy: 0.9425 - loss: 0.2023 - val_accuracy: 0.9482 - val_loss: 0.2116\n",
            "Epoch 8/30\n",
            "\u001b[1m540/540\u001b[0m \u001b[32m━━━━━━━━━━━━━━━━━━━━\u001b[0m\u001b[37m\u001b[0m \u001b[1m2s\u001b[0m 3ms/step - accuracy: 0.9479 - loss: 0.1835 - val_accuracy: 0.9460 - val_loss: 0.2040\n",
            "Epoch 9/30\n",
            "\u001b[1m540/540\u001b[0m \u001b[32m━━━━━━━━━━━━━━━━━━━━\u001b[0m\u001b[37m\u001b[0m \u001b[1m2s\u001b[0m 3ms/step - accuracy: 0.9504 - loss: 0.1737 - val_accuracy: 0.9432 - val_loss: 0.2173\n",
            "Epoch 10/30\n",
            "\u001b[1m540/540\u001b[0m \u001b[32m━━━━━━━━━━━━━━━━━━━━\u001b[0m\u001b[37m\u001b[0m \u001b[1m2s\u001b[0m 3ms/step - accuracy: 0.9539 - loss: 0.1612 - val_accuracy: 0.9442 - val_loss: 0.2353\n",
            "Epoch 11/30\n",
            "\u001b[1m540/540\u001b[0m \u001b[32m━━━━━━━━━━━━━━━━━━━━\u001b[0m\u001b[37m\u001b[0m \u001b[1m4s\u001b[0m 5ms/step - accuracy: 0.9538 - loss: 0.1641 - val_accuracy: 0.9507 - val_loss: 0.2199\n",
            "Epoch 12/30\n",
            "\u001b[1m540/540\u001b[0m \u001b[32m━━━━━━━━━━━━━━━━━━━━\u001b[0m\u001b[37m\u001b[0m \u001b[1m4s\u001b[0m 3ms/step - accuracy: 0.9595 - loss: 0.1441 - val_accuracy: 0.9560 - val_loss: 0.2021\n",
            "Epoch 13/30\n",
            "\u001b[1m540/540\u001b[0m \u001b[32m━━━━━━━━━━━━━━━━━━━━\u001b[0m\u001b[37m\u001b[0m \u001b[1m2s\u001b[0m 3ms/step - accuracy: 0.9623 - loss: 0.1325 - val_accuracy: 0.9527 - val_loss: 0.1902\n",
            "Epoch 14/30\n",
            "\u001b[1m540/540\u001b[0m \u001b[32m━━━━━━━━━━━━━━━━━━━━\u001b[0m\u001b[37m\u001b[0m \u001b[1m2s\u001b[0m 3ms/step - accuracy: 0.9639 - loss: 0.1273 - val_accuracy: 0.9582 - val_loss: 0.1932\n",
            "Epoch 15/30\n",
            "\u001b[1m540/540\u001b[0m \u001b[32m━━━━━━━━━━━━━━━━━━━━\u001b[0m\u001b[37m\u001b[0m \u001b[1m3s\u001b[0m 4ms/step - accuracy: 0.9639 - loss: 0.1253 - val_accuracy: 0.9528 - val_loss: 0.1921\n",
            "Epoch 16/30\n",
            "\u001b[1m540/540\u001b[0m \u001b[32m━━━━━━━━━━━━━━━━━━━━\u001b[0m\u001b[37m\u001b[0m \u001b[1m3s\u001b[0m 4ms/step - accuracy: 0.9663 - loss: 0.1207 - val_accuracy: 0.9597 - val_loss: 0.1741\n",
            "Epoch 17/30\n",
            "\u001b[1m540/540\u001b[0m \u001b[32m━━━━━━━━━━━━━━━━━━━━\u001b[0m\u001b[37m\u001b[0m \u001b[1m2s\u001b[0m 3ms/step - accuracy: 0.9694 - loss: 0.1053 - val_accuracy: 0.9590 - val_loss: 0.1877\n",
            "Epoch 18/30\n",
            "\u001b[1m540/540\u001b[0m \u001b[32m━━━━━━━━━━━━━━━━━━━━\u001b[0m\u001b[37m\u001b[0m \u001b[1m2s\u001b[0m 3ms/step - accuracy: 0.9693 - loss: 0.1068 - val_accuracy: 0.9607 - val_loss: 0.1910\n",
            "Epoch 19/30\n",
            "\u001b[1m540/540\u001b[0m \u001b[32m━━━━━━━━━━━━━━━━━━━━\u001b[0m\u001b[37m\u001b[0m \u001b[1m3s\u001b[0m 3ms/step - accuracy: 0.9693 - loss: 0.1076 - val_accuracy: 0.9532 - val_loss: 0.2083\n",
            "Epoch 20/30\n",
            "\u001b[1m540/540\u001b[0m \u001b[32m━━━━━━━━━━━━━━━━━━━━\u001b[0m\u001b[37m\u001b[0m \u001b[1m2s\u001b[0m 3ms/step - accuracy: 0.9683 - loss: 0.1074 - val_accuracy: 0.9568 - val_loss: 0.2013\n",
            "Epoch 21/30\n",
            "\u001b[1m540/540\u001b[0m \u001b[32m━━━━━━━━━━━━━━━━━━━━\u001b[0m\u001b[37m\u001b[0m \u001b[1m3s\u001b[0m 4ms/step - accuracy: 0.9712 - loss: 0.1034 - val_accuracy: 0.9592 - val_loss: 0.1821\n",
            "Epoch 22/30\n",
            "\u001b[1m540/540\u001b[0m \u001b[32m━━━━━━━━━━━━━━━━━━━━\u001b[0m\u001b[37m\u001b[0m \u001b[1m3s\u001b[0m 5ms/step - accuracy: 0.9732 - loss: 0.0924 - val_accuracy: 0.9592 - val_loss: 0.2040\n",
            "Epoch 23/30\n",
            "\u001b[1m540/540\u001b[0m \u001b[32m━━━━━━━━━━━━━━━━━━━━\u001b[0m\u001b[37m\u001b[0m \u001b[1m2s\u001b[0m 3ms/step - accuracy: 0.9725 - loss: 0.0971 - val_accuracy: 0.9580 - val_loss: 0.2138\n",
            "Epoch 24/30\n",
            "\u001b[1m540/540\u001b[0m \u001b[32m━━━━━━━━━━━━━━━━━━━━\u001b[0m\u001b[37m\u001b[0m \u001b[1m3s\u001b[0m 3ms/step - accuracy: 0.9737 - loss: 0.0901 - val_accuracy: 0.9585 - val_loss: 0.2240\n",
            "Epoch 25/30\n",
            "\u001b[1m540/540\u001b[0m \u001b[32m━━━━━━━━━━━━━━━━━━━━\u001b[0m\u001b[37m\u001b[0m \u001b[1m2s\u001b[0m 3ms/step - accuracy: 0.9768 - loss: 0.0793 - val_accuracy: 0.9613 - val_loss: 0.2068\n",
            "Epoch 26/30\n",
            "\u001b[1m540/540\u001b[0m \u001b[32m━━━━━━━━━━━━━━━━━━━━\u001b[0m\u001b[37m\u001b[0m \u001b[1m3s\u001b[0m 3ms/step - accuracy: 0.9744 - loss: 0.0905 - val_accuracy: 0.9590 - val_loss: 0.2172\n",
            "Epoch 27/30\n",
            "\u001b[1m540/540\u001b[0m \u001b[32m━━━━━━━━━━━━━━━━━━━━\u001b[0m\u001b[37m\u001b[0m \u001b[1m2s\u001b[0m 4ms/step - accuracy: 0.9761 - loss: 0.0874 - val_accuracy: 0.9608 - val_loss: 0.2124\n",
            "Epoch 28/30\n",
            "\u001b[1m540/540\u001b[0m \u001b[32m━━━━━━━━━━━━━━━━━━━━\u001b[0m\u001b[37m\u001b[0m \u001b[1m3s\u001b[0m 5ms/step - accuracy: 0.9762 - loss: 0.0883 - val_accuracy: 0.9605 - val_loss: 0.2282\n",
            "Epoch 29/30\n",
            "\u001b[1m540/540\u001b[0m \u001b[32m━━━━━━━━━━━━━━━━━━━━\u001b[0m\u001b[37m\u001b[0m \u001b[1m2s\u001b[0m 3ms/step - accuracy: 0.9773 - loss: 0.0797 - val_accuracy: 0.9573 - val_loss: 0.2321\n",
            "Epoch 30/30\n",
            "\u001b[1m540/540\u001b[0m \u001b[32m━━━━━━━━━━━━━━━━━━━━\u001b[0m\u001b[37m\u001b[0m \u001b[1m3s\u001b[0m 3ms/step - accuracy: 0.9771 - loss: 0.0792 - val_accuracy: 0.9590 - val_loss: 0.2428\n",
            "313/313 - 0s - 1ms/step - accuracy: 0.9439 - loss: 0.6439\n",
            "Epoch 1/30\n",
            "\u001b[1m540/540\u001b[0m \u001b[32m━━━━━━━━━━━━━━━━━━━━\u001b[0m\u001b[37m\u001b[0m \u001b[1m3s\u001b[0m 3ms/step - accuracy: 0.7234 - loss: 12.5675 - val_accuracy: 0.8582 - val_loss: 0.5900\n",
            "Epoch 2/30\n",
            "\u001b[1m540/540\u001b[0m \u001b[32m━━━━━━━━━━━━━━━━━━━━\u001b[0m\u001b[37m\u001b[0m \u001b[1m4s\u001b[0m 5ms/step - accuracy: 0.8478 - loss: 0.5990 - val_accuracy: 0.8950 - val_loss: 0.4291\n",
            "Epoch 3/30\n",
            "\u001b[1m540/540\u001b[0m \u001b[32m━━━━━━━━━━━━━━━━━━━━\u001b[0m\u001b[37m\u001b[0m \u001b[1m2s\u001b[0m 3ms/step - accuracy: 0.8891 - loss: 0.4128 - val_accuracy: 0.9188 - val_loss: 0.3507\n",
            "Epoch 4/30\n",
            "\u001b[1m540/540\u001b[0m \u001b[32m━━━━━━━━━━━━━━━━━━━━\u001b[0m\u001b[37m\u001b[0m \u001b[1m2s\u001b[0m 3ms/step - accuracy: 0.9093 - loss: 0.3315 - val_accuracy: 0.9305 - val_loss: 0.2796\n",
            "Epoch 5/30\n",
            "\u001b[1m540/540\u001b[0m \u001b[32m━━━━━━━━━━━━━━━━━━━━\u001b[0m\u001b[37m\u001b[0m \u001b[1m3s\u001b[0m 3ms/step - accuracy: 0.9234 - loss: 0.2785 - val_accuracy: 0.9343 - val_loss: 0.2663\n",
            "Epoch 6/30\n",
            "\u001b[1m540/540\u001b[0m \u001b[32m━━━━━━━━━━━━━━━━━━━━\u001b[0m\u001b[37m\u001b[0m \u001b[1m2s\u001b[0m 3ms/step - accuracy: 0.9312 - loss: 0.2385 - val_accuracy: 0.9375 - val_loss: 0.2661\n",
            "Epoch 7/30\n",
            "\u001b[1m540/540\u001b[0m \u001b[32m━━━━━━━━━━━━━━━━━━━━\u001b[0m\u001b[37m\u001b[0m \u001b[1m3s\u001b[0m 4ms/step - accuracy: 0.9373 - loss: 0.2145 - val_accuracy: 0.9363 - val_loss: 0.2243\n",
            "Epoch 8/30\n",
            "\u001b[1m540/540\u001b[0m \u001b[32m━━━━━━━━━━━━━━━━━━━━\u001b[0m\u001b[37m\u001b[0m \u001b[1m3s\u001b[0m 5ms/step - accuracy: 0.9421 - loss: 0.2015 - val_accuracy: 0.9462 - val_loss: 0.2068\n",
            "Epoch 9/30\n",
            "\u001b[1m540/540\u001b[0m \u001b[32m━━━━━━━━━━━━━━━━━━━━\u001b[0m\u001b[37m\u001b[0m \u001b[1m4s\u001b[0m 3ms/step - accuracy: 0.9454 - loss: 0.1901 - val_accuracy: 0.9422 - val_loss: 0.2363\n",
            "Epoch 10/30\n",
            "\u001b[1m540/540\u001b[0m \u001b[32m━━━━━━━━━━━━━━━━━━━━\u001b[0m\u001b[37m\u001b[0m \u001b[1m3s\u001b[0m 3ms/step - accuracy: 0.9474 - loss: 0.1803 - val_accuracy: 0.9460 - val_loss: 0.2150\n",
            "Epoch 11/30\n",
            "\u001b[1m540/540\u001b[0m \u001b[32m━━━━━━━━━━━━━━━━━━━━\u001b[0m\u001b[37m\u001b[0m \u001b[1m3s\u001b[0m 3ms/step - accuracy: 0.9524 - loss: 0.1675 - val_accuracy: 0.9552 - val_loss: 0.1998\n",
            "Epoch 12/30\n",
            "\u001b[1m540/540\u001b[0m \u001b[32m━━━━━━━━━━━━━━━━━━━━\u001b[0m\u001b[37m\u001b[0m \u001b[1m3s\u001b[0m 5ms/step - accuracy: 0.9510 - loss: 0.1651 - val_accuracy: 0.9535 - val_loss: 0.1977\n",
            "Epoch 13/30\n",
            "\u001b[1m540/540\u001b[0m \u001b[32m━━━━━━━━━━━━━━━━━━━━\u001b[0m\u001b[37m\u001b[0m \u001b[1m2s\u001b[0m 4ms/step - accuracy: 0.9560 - loss: 0.1493 - val_accuracy: 0.9560 - val_loss: 0.2074\n",
            "Epoch 14/30\n",
            "\u001b[1m540/540\u001b[0m \u001b[32m━━━━━━━━━━━━━━━━━━━━\u001b[0m\u001b[37m\u001b[0m \u001b[1m2s\u001b[0m 3ms/step - accuracy: 0.9595 - loss: 0.1392 - val_accuracy: 0.9537 - val_loss: 0.1929\n",
            "Epoch 15/30\n",
            "\u001b[1m540/540\u001b[0m \u001b[32m━━━━━━━━━━━━━━━━━━━━\u001b[0m\u001b[37m\u001b[0m \u001b[1m3s\u001b[0m 3ms/step - accuracy: 0.9634 - loss: 0.1289 - val_accuracy: 0.9525 - val_loss: 0.2090\n",
            "Epoch 16/30\n",
            "\u001b[1m540/540\u001b[0m \u001b[32m━━━━━━━━━━━━━━━━━━━━\u001b[0m\u001b[37m\u001b[0m \u001b[1m2s\u001b[0m 3ms/step - accuracy: 0.9645 - loss: 0.1275 - val_accuracy: 0.9587 - val_loss: 0.1891\n",
            "Epoch 17/30\n",
            "\u001b[1m540/540\u001b[0m \u001b[32m━━━━━━━━━━━━━━━━━━━━\u001b[0m\u001b[37m\u001b[0m \u001b[1m3s\u001b[0m 4ms/step - accuracy: 0.9648 - loss: 0.1205 - val_accuracy: 0.9545 - val_loss: 0.1928\n",
            "Epoch 18/30\n",
            "\u001b[1m540/540\u001b[0m \u001b[32m━━━━━━━━━━━━━━━━━━━━\u001b[0m\u001b[37m\u001b[0m \u001b[1m3s\u001b[0m 5ms/step - accuracy: 0.9654 - loss: 0.1216 - val_accuracy: 0.9595 - val_loss: 0.1984\n",
            "Epoch 19/30\n",
            "\u001b[1m540/540\u001b[0m \u001b[32m━━━━━━━━━━━━━━━━━━━━\u001b[0m\u001b[37m\u001b[0m \u001b[1m4s\u001b[0m 3ms/step - accuracy: 0.9714 - loss: 0.0969 - val_accuracy: 0.9500 - val_loss: 0.2298\n",
            "Epoch 20/30\n",
            "\u001b[1m540/540\u001b[0m \u001b[32m━━━━━━━━━━━━━━━━━━━━\u001b[0m\u001b[37m\u001b[0m \u001b[1m3s\u001b[0m 3ms/step - accuracy: 0.9695 - loss: 0.1002 - val_accuracy: 0.9558 - val_loss: 0.2140\n",
            "Epoch 21/30\n",
            "\u001b[1m540/540\u001b[0m \u001b[32m━━━━━━━━━━━━━━━━━━━━\u001b[0m\u001b[37m\u001b[0m \u001b[1m2s\u001b[0m 3ms/step - accuracy: 0.9708 - loss: 0.0982 - val_accuracy: 0.9603 - val_loss: 0.2011\n",
            "Epoch 22/30\n",
            "\u001b[1m540/540\u001b[0m \u001b[32m━━━━━━━━━━━━━━━━━━━━\u001b[0m\u001b[37m\u001b[0m \u001b[1m4s\u001b[0m 6ms/step - accuracy: 0.9710 - loss: 0.0989 - val_accuracy: 0.9583 - val_loss: 0.2009\n",
            "Epoch 23/30\n",
            "\u001b[1m540/540\u001b[0m \u001b[32m━━━━━━━━━━━━━━━━━━━━\u001b[0m\u001b[37m\u001b[0m \u001b[1m4s\u001b[0m 3ms/step - accuracy: 0.9702 - loss: 0.1025 - val_accuracy: 0.9548 - val_loss: 0.2277\n",
            "Epoch 24/30\n",
            "\u001b[1m540/540\u001b[0m \u001b[32m━━━━━━━━━━━━━━━━━━━━\u001b[0m\u001b[37m\u001b[0m \u001b[1m3s\u001b[0m 3ms/step - accuracy: 0.9731 - loss: 0.0888 - val_accuracy: 0.9557 - val_loss: 0.2253\n",
            "Epoch 25/30\n",
            "\u001b[1m540/540\u001b[0m \u001b[32m━━━━━━━━━━━━━━━━━━━━\u001b[0m\u001b[37m\u001b[0m \u001b[1m2s\u001b[0m 3ms/step - accuracy: 0.9723 - loss: 0.0943 - val_accuracy: 0.9603 - val_loss: 0.2136\n",
            "Epoch 26/30\n",
            "\u001b[1m540/540\u001b[0m \u001b[32m━━━━━━━━━━━━━━━━━━━━\u001b[0m\u001b[37m\u001b[0m \u001b[1m3s\u001b[0m 4ms/step - accuracy: 0.9754 - loss: 0.0856 - val_accuracy: 0.9637 - val_loss: 0.2081\n",
            "Epoch 27/30\n",
            "\u001b[1m540/540\u001b[0m \u001b[32m━━━━━━━━━━━━━━━━━━━━\u001b[0m\u001b[37m\u001b[0m \u001b[1m3s\u001b[0m 5ms/step - accuracy: 0.9744 - loss: 0.0844 - val_accuracy: 0.9590 - val_loss: 0.2274\n",
            "Epoch 28/30\n",
            "\u001b[1m540/540\u001b[0m \u001b[32m━━━━━━━━━━━━━━━━━━━━\u001b[0m\u001b[37m\u001b[0m \u001b[1m2s\u001b[0m 4ms/step - accuracy: 0.9748 - loss: 0.0872 - val_accuracy: 0.9593 - val_loss: 0.2572\n",
            "Epoch 29/30\n",
            "\u001b[1m540/540\u001b[0m \u001b[32m━━━━━━━━━━━━━━━━━━━━\u001b[0m\u001b[37m\u001b[0m \u001b[1m3s\u001b[0m 3ms/step - accuracy: 0.9739 - loss: 0.0893 - val_accuracy: 0.9588 - val_loss: 0.2402\n",
            "Epoch 30/30\n",
            "\u001b[1m540/540\u001b[0m \u001b[32m━━━━━━━━━━━━━━━━━━━━\u001b[0m\u001b[37m\u001b[0m \u001b[1m2s\u001b[0m 3ms/step - accuracy: 0.9747 - loss: 0.0865 - val_accuracy: 0.9548 - val_loss: 0.2872\n",
            "313/313 - 0s - 2ms/step - accuracy: 0.9272 - loss: 0.9111\n",
            "Epoch 1/30\n",
            "\u001b[1m540/540\u001b[0m \u001b[32m━━━━━━━━━━━━━━━━━━━━\u001b[0m\u001b[37m\u001b[0m \u001b[1m4s\u001b[0m 5ms/step - accuracy: 0.7160 - loss: 12.8887 - val_accuracy: 0.8177 - val_loss: 0.6362\n",
            "Epoch 2/30\n",
            "\u001b[1m540/540\u001b[0m \u001b[32m━━━━━━━━━━━━━━━━━━━━\u001b[0m\u001b[37m\u001b[0m \u001b[1m4s\u001b[0m 3ms/step - accuracy: 0.8353 - loss: 0.6341 - val_accuracy: 0.8843 - val_loss: 0.4370\n",
            "Epoch 3/30\n",
            "\u001b[1m540/540\u001b[0m \u001b[32m━━━━━━━━━━━━━━━━━━━━\u001b[0m\u001b[37m\u001b[0m \u001b[1m2s\u001b[0m 3ms/step - accuracy: 0.8821 - loss: 0.4282 - val_accuracy: 0.9047 - val_loss: 0.3458\n",
            "Epoch 4/30\n",
            "\u001b[1m540/540\u001b[0m \u001b[32m━━━━━━━━━━━━━━━━━━━━\u001b[0m\u001b[37m\u001b[0m \u001b[1m2s\u001b[0m 3ms/step - accuracy: 0.9069 - loss: 0.3347 - val_accuracy: 0.9328 - val_loss: 0.2533\n",
            "Epoch 5/30\n",
            "\u001b[1m540/540\u001b[0m \u001b[32m━━━━━━━━━━━━━━━━━━━━\u001b[0m\u001b[37m\u001b[0m \u001b[1m2s\u001b[0m 4ms/step - accuracy: 0.9214 - loss: 0.2709 - val_accuracy: 0.9248 - val_loss: 0.3138\n",
            "Epoch 6/30\n",
            "\u001b[1m540/540\u001b[0m \u001b[32m━━━━━━━━━━━━━━━━━━━━\u001b[0m\u001b[37m\u001b[0m \u001b[1m3s\u001b[0m 5ms/step - accuracy: 0.9274 - loss: 0.2488 - val_accuracy: 0.9370 - val_loss: 0.2354\n",
            "Epoch 7/30\n",
            "\u001b[1m540/540\u001b[0m \u001b[32m━━━━━━━━━━━━━━━━━━━━\u001b[0m\u001b[37m\u001b[0m \u001b[1m2s\u001b[0m 3ms/step - accuracy: 0.9369 - loss: 0.2166 - val_accuracy: 0.9332 - val_loss: 0.2393\n",
            "Epoch 8/30\n",
            "\u001b[1m540/540\u001b[0m \u001b[32m━━━━━━━━━━━━━━━━━━━━\u001b[0m\u001b[37m\u001b[0m \u001b[1m2s\u001b[0m 3ms/step - accuracy: 0.9391 - loss: 0.2038 - val_accuracy: 0.9318 - val_loss: 0.2703\n",
            "Epoch 9/30\n",
            "\u001b[1m540/540\u001b[0m \u001b[32m━━━━━━━━━━━━━━━━━━━━\u001b[0m\u001b[37m\u001b[0m \u001b[1m2s\u001b[0m 3ms/step - accuracy: 0.9437 - loss: 0.1899 - val_accuracy: 0.9502 - val_loss: 0.1944\n",
            "Epoch 10/30\n",
            "\u001b[1m540/540\u001b[0m \u001b[32m━━━━━━━━━━━━━━━━━━━━\u001b[0m\u001b[37m\u001b[0m \u001b[1m3s\u001b[0m 3ms/step - accuracy: 0.9453 - loss: 0.1802 - val_accuracy: 0.9478 - val_loss: 0.2033\n",
            "Epoch 11/30\n",
            "\u001b[1m540/540\u001b[0m \u001b[32m━━━━━━━━━━━━━━━━━━━━\u001b[0m\u001b[37m\u001b[0m \u001b[1m2s\u001b[0m 4ms/step - accuracy: 0.9513 - loss: 0.1665 - val_accuracy: 0.9538 - val_loss: 0.1872\n",
            "Epoch 12/30\n",
            "\u001b[1m540/540\u001b[0m \u001b[32m━━━━━━━━━━━━━━━━━━━━\u001b[0m\u001b[37m\u001b[0m \u001b[1m3s\u001b[0m 5ms/step - accuracy: 0.9512 - loss: 0.1661 - val_accuracy: 0.9458 - val_loss: 0.2117\n",
            "Epoch 13/30\n",
            "\u001b[1m540/540\u001b[0m \u001b[32m━━━━━━━━━━━━━━━━━━━━\u001b[0m\u001b[37m\u001b[0m \u001b[1m2s\u001b[0m 3ms/step - accuracy: 0.9521 - loss: 0.1569 - val_accuracy: 0.9492 - val_loss: 0.2094\n",
            "Epoch 14/30\n",
            "\u001b[1m540/540\u001b[0m \u001b[32m━━━━━━━━━━━━━━━━━━━━\u001b[0m\u001b[37m\u001b[0m \u001b[1m3s\u001b[0m 3ms/step - accuracy: 0.9552 - loss: 0.1550 - val_accuracy: 0.9477 - val_loss: 0.2141\n",
            "Epoch 15/30\n",
            "\u001b[1m540/540\u001b[0m \u001b[32m━━━━━━━━━━━━━━━━━━━━\u001b[0m\u001b[37m\u001b[0m \u001b[1m3s\u001b[0m 3ms/step - accuracy: 0.9576 - loss: 0.1414 - val_accuracy: 0.9453 - val_loss: 0.2157\n",
            "Epoch 16/30\n",
            "\u001b[1m540/540\u001b[0m \u001b[32m━━━━━━━━━━━━━━━━━━━━\u001b[0m\u001b[37m\u001b[0m \u001b[1m2s\u001b[0m 3ms/step - accuracy: 0.9597 - loss: 0.1311 - val_accuracy: 0.9490 - val_loss: 0.1983\n",
            "Epoch 17/30\n",
            "\u001b[1m540/540\u001b[0m \u001b[32m━━━━━━━━━━━━━━━━━━━━\u001b[0m\u001b[37m\u001b[0m \u001b[1m4s\u001b[0m 6ms/step - accuracy: 0.9593 - loss: 0.1332 - val_accuracy: 0.9487 - val_loss: 0.2197\n",
            "Epoch 18/30\n",
            "\u001b[1m540/540\u001b[0m \u001b[32m━━━━━━━━━━━━━━━━━━━━\u001b[0m\u001b[37m\u001b[0m \u001b[1m4s\u001b[0m 3ms/step - accuracy: 0.9615 - loss: 0.1304 - val_accuracy: 0.9493 - val_loss: 0.2122\n",
            "Epoch 19/30\n",
            "\u001b[1m540/540\u001b[0m \u001b[32m━━━━━━━━━━━━━━━━━━━━\u001b[0m\u001b[37m\u001b[0m \u001b[1m2s\u001b[0m 3ms/step - accuracy: 0.9600 - loss: 0.1330 - val_accuracy: 0.9535 - val_loss: 0.1874\n",
            "Epoch 20/30\n",
            "\u001b[1m540/540\u001b[0m \u001b[32m━━━━━━━━━━━━━━━━━━━━\u001b[0m\u001b[37m\u001b[0m \u001b[1m2s\u001b[0m 3ms/step - accuracy: 0.9645 - loss: 0.1173 - val_accuracy: 0.9467 - val_loss: 0.2340\n",
            "Epoch 21/30\n",
            "\u001b[1m540/540\u001b[0m \u001b[32m━━━━━━━━━━━━━━━━━━━━\u001b[0m\u001b[37m\u001b[0m \u001b[1m2s\u001b[0m 3ms/step - accuracy: 0.9665 - loss: 0.1095 - val_accuracy: 0.9510 - val_loss: 0.2061\n",
            "Epoch 22/30\n",
            "\u001b[1m540/540\u001b[0m \u001b[32m━━━━━━━━━━━━━━━━━━━━\u001b[0m\u001b[37m\u001b[0m \u001b[1m4s\u001b[0m 6ms/step - accuracy: 0.9643 - loss: 0.1231 - val_accuracy: 0.9512 - val_loss: 0.2307\n",
            "Epoch 23/30\n",
            "\u001b[1m540/540\u001b[0m \u001b[32m━━━━━━━━━━━━━━━━━━━━\u001b[0m\u001b[37m\u001b[0m \u001b[1m4s\u001b[0m 4ms/step - accuracy: 0.9665 - loss: 0.1125 - val_accuracy: 0.9555 - val_loss: 0.2215\n",
            "Epoch 24/30\n",
            "\u001b[1m540/540\u001b[0m \u001b[32m━━━━━━━━━━━━━━━━━━━━\u001b[0m\u001b[37m\u001b[0m \u001b[1m2s\u001b[0m 4ms/step - accuracy: 0.9690 - loss: 0.1044 - val_accuracy: 0.9553 - val_loss: 0.2088\n",
            "Epoch 25/30\n",
            "\u001b[1m540/540\u001b[0m \u001b[32m━━━━━━━━━━━━━━━━━━━━\u001b[0m\u001b[37m\u001b[0m \u001b[1m2s\u001b[0m 3ms/step - accuracy: 0.9709 - loss: 0.1001 - val_accuracy: 0.9558 - val_loss: 0.2168\n",
            "Epoch 26/30\n",
            "\u001b[1m540/540\u001b[0m \u001b[32m━━━━━━━━━━━━━━━━━━━━\u001b[0m\u001b[37m\u001b[0m \u001b[1m3s\u001b[0m 4ms/step - accuracy: 0.9686 - loss: 0.1006 - val_accuracy: 0.9527 - val_loss: 0.2154\n",
            "Epoch 27/30\n",
            "\u001b[1m540/540\u001b[0m \u001b[32m━━━━━━━━━━━━━━━━━━━━\u001b[0m\u001b[37m\u001b[0m \u001b[1m3s\u001b[0m 5ms/step - accuracy: 0.9709 - loss: 0.0970 - val_accuracy: 0.9503 - val_loss: 0.2274\n",
            "Epoch 28/30\n",
            "\u001b[1m540/540\u001b[0m \u001b[32m━━━━━━━━━━━━━━━━━━━━\u001b[0m\u001b[37m\u001b[0m \u001b[1m2s\u001b[0m 3ms/step - accuracy: 0.9740 - loss: 0.0877 - val_accuracy: 0.9513 - val_loss: 0.2421\n",
            "Epoch 29/30\n",
            "\u001b[1m540/540\u001b[0m \u001b[32m━━━━━━━━━━━━━━━━━━━━\u001b[0m\u001b[37m\u001b[0m \u001b[1m3s\u001b[0m 3ms/step - accuracy: 0.9713 - loss: 0.0954 - val_accuracy: 0.9543 - val_loss: 0.2561\n",
            "Epoch 30/30\n",
            "\u001b[1m540/540\u001b[0m \u001b[32m━━━━━━━━━━━━━━━━━━━━\u001b[0m\u001b[37m\u001b[0m \u001b[1m3s\u001b[0m 3ms/step - accuracy: 0.9714 - loss: 0.0975 - val_accuracy: 0.9497 - val_loss: 0.2807\n",
            "313/313 - 0s - 1ms/step - accuracy: 0.9280 - loss: 0.7127\n",
            "Best noise level: 5\n"
          ]
        },
        {
          "output_type": "display_data",
          "data": {
            "text/plain": [
              "<Figure size 640x480 with 1 Axes>"
            ],
            "image/png": "[encoded data removed]"
          },
          "metadata": {}
        }
      ]
    }
  ]
}